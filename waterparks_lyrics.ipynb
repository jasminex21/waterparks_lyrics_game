{
 "cells": [
  {
   "cell_type": "markdown",
   "id": "cb800a8c-96c2-41cc-abd6-d1267b5c555d",
   "metadata": {},
   "source": [
    "## Scraping Waterparks Lyrics"
   ]
  },
  {
   "cell_type": "code",
   "execution_count": 75,
   "id": "c29feb2f-3ede-4214-bdea-779c0807fb65",
   "metadata": {},
   "outputs": [],
   "source": [
    "import pandas as pd\n",
    "import numpy as np\n",
    "import json\n",
    "import spotipy\n",
    "import re\n",
    "from lyricsgenius import Genius\n",
    "from spotipy.oauth2 import SpotifyClientCredentials"
   ]
  },
  {
   "cell_type": "code",
   "execution_count": 2,
   "id": "7b4f5b63-162a-4434-9471-6da4bf7a15c3",
   "metadata": {},
   "outputs": [],
   "source": [
    "API_KEY = \"sFB433-aPPAH8VpsfF9ETSr-9SQYsbxFBGMTd_XvqF6ED84O-fMYiGf_ENUtNLRn\""
   ]
  },
  {
   "cell_type": "code",
   "execution_count": 3,
   "id": "059e43d3-fc70-411e-a3e6-bb835272dfd4",
   "metadata": {
    "scrolled": true
   },
   "outputs": [
    {
     "name": "stdout",
     "output_type": "stream",
     "text": [
      "Searching for songs by Waterparks...\n",
      "\n",
      "Song 1: \"Turbulent\"\n",
      "Song 2: \"I Miss Having Sex But at Least I Don’t Wanna Die Anymore\"\n",
      "Song 3: \"Stupid for You\"\n",
      "Song 4: \"TANTRUM\"\n",
      "Song 5: \"21 Questions\"\n",
      "Song 6: \"Blonde\"\n",
      "Song 7: \"Lucky People\"\n",
      "Song 8: \"Watch What Happens Next\"\n",
      "Song 9: \"We Need to Talk\"\n",
      "Song 10: \"Not Warriors\"\n",
      "Song 11: \"11:11\"\n",
      "Song 12: \"Snow Globe\"\n",
      "Song 13: \"Gloom Boys\"\n",
      "Song 14: \"High Definition\"\n",
      "Song 15: \"Peach (Lobotomy)\"\n",
      "Song 16: \"Numb\"\n",
      "Song 17: \"Royal\"\n",
      "Song 18: \"Dream Boy\"\n",
      "Song 19: \"Crave\"\n",
      "Song 20: \"Lowkey as Hell\"\n",
      "Song 21: \"Rare\"\n",
      "Song 22: \"Telephone\"\n",
      "Song 23: \"[Reboot]\"\n",
      "Song 24: \"War Crimes\"\n",
      "Song 25: \"You’d Be Paranoid Too (If Everyone Was Out to Get You)\"\n",
      "Song 26: \"Dizzy\"\n",
      "Song 27: \"Violet!\"\n",
      "Song 28: \"FUNERAL GREY\"\n",
      "Song 29: \"Easy To Hate\"\n",
      "Song 30: \"See You In The Future\"\n",
      "Song 31: \"I Felt Younger When We Met\"\n",
      "Song 32: \"Crybaby\"\n",
      "Song 33: \"Plum Island\"\n",
      "Song 34: \"Take Her to the Moon\"\n",
      "Song 35: \"Sleep Alone\"\n",
      "Song 36: \"Hawaii (Stay Awake)\"\n",
      "Song 37: \"BRAINWASHED\"\n",
      "Song 38: \"REAL SUPER DARK\"\n",
      "Song 39: \"Fuzzy\"\n",
      "Song 40: \"Worst\"\n",
      "Song 41: \"Powerless\"\n",
      "Song 42: \"Just Kidding\"\n",
      "Song 43: \"It Follows\"\n",
      "Song 44: \"Fruit Roll Ups\"\n",
      "Song 45: \"Cherry Red\"\n",
      "Song 46: \"Little Violence\"\n",
      "Song 47: \"The Secret Life of Me\"\n",
      "Song 48: \"Never Bloom Again\"\n",
      "Song 49: \"Pink\"\n",
      "Song 50: \"I’m a Natural Blue\"\n",
      "Song 51: \"RITUAL\"\n",
      "Song 52: \"Magnetic\"\n",
      "Song 53: \"SELF-SABOTAGE\"\n",
      "Song 54: \"A NIGHT OUT ON EARTH\"\n",
      "Song 55: \"LIKE IT\"\n",
      "Song 56: \"Made in America\"\n",
      "Song 57: \"ST*RFUCKER\"\n",
      "Song 58: \"Crying Over It All\"\n",
      "Song 59: \"CLOSER\"\n",
      "Song 60: \"Mad All the Time\"\n",
      "Song 61: \"I’ll Always Be Around\"\n",
      "Song 62: \"Teenage Jealousy (1997 DEMO)\"\n",
      "Song 63: \"American Graffiti\"\n",
      "Song 64: \"Glitter Times (1997 DEMO)\"\n",
      "Song 65: \"What We Do for Fun\"\n",
      "Song 66: \"Last Heaven (1996 DEMO)\"\n",
      "Song 67: \"FUCK ABOUT IT\"\n",
      "Song 68: \"SNEAKING OUT OF HEAVEN\"\n",
      "Song 69: \"2 BEST FRIENDS\"\n",
      "Song 70: \"Ice Bath\"\n",
      "Song 71: \"END OF THE WATER (FEEL)\"\n",
      "Song 72: \"Candy\"\n",
      "Song 73: \"No Capes\"\n",
      "Song 74: \"Silver\"\n",
      "Song 75: \"Group Chat\"\n",
      "Song 76: \"Territory\"\n",
      "Song 77: \"Greatest Hits\"\n",
      "Song 78: \"Easter Egg\"\n",
      "Song 79: \"Noise (1997 DEMO)\"\n",
      "Song 80: \"I Was Hiding Under Your Porch Because I Love You\"\n",
      "Song 81: \"Sorry As I’ll Ever Be (1997 DEMO)\"\n",
      "Song 82: \"Gladiator (Interlude)\"\n",
      "Song 83: \"Zone Out\"\n",
      "Song 84: \"Christmas\"\n",
      "Song 85: \"Lemonade (1998 DEMO)\"\n",
      "Song 86: \"Kiwi (Play)\"\n",
      "Song 87: \"Fantastic\"\n",
      "Song 88: \"Perfect Posture (1994 DEMO)\"\n",
      "Song 89: \"Night Maps\"\n",
      "Song 90: \"They All Float\"\n",
      "Song 91: \"Read My Mind (1995 DEMO)\"\n",
      "Song 92: \"Double Dare 2019\"\n",
      "Song 93: \"American History\"\n",
      "Song 94: \"Bones of ’92\"\n",
      "Song 95: \"New Wave\"\n",
      "Song 96: \"Turbulent (Clean Version)\"\n",
      "Song 97: \"WHY CAN’T I?\"\n",
      "Song 98: \"Entertainment 2019\"\n",
      "Song 99: \"Beep Me\"\n",
      "Song 100: \"LIFE IS PUKE (20,000) (1995 DEMO)\"\n",
      "Song 101: \"Beating Heart Baby\"\n",
      "Song 102: \"The Secret Life of Me (Alt Version)\"\n",
      "Song 103: \"Need Me Back (Snippet)\"\n",
      "Song 104: \"Friendly Reminder\"\n",
      "Song 105: \"All By Myself\"\n",
      "Song 106: \"SELF-SABOTAGE (Remix)\"\n",
      "Song 107: \"Hitchin’ A Ride\"\n",
      "Song 108: \"SOULSUCKER\"\n",
      "Song 109: \"Everywhere\"\n",
      "Song 110: \"END OF THE WATER (Alt Version)\"\n",
      "Song 111: \"Play (Unreleased)\"\n",
      "\"Cherry Red (Demo)\" is not valid. Skipping.\n",
      "Song 112: \"I Felt Younger When We Met (Home Demo Version)\"\n",
      "Song 113: \"LIKE IT (Alt Version)\"\n",
      "Song 114: \"Toothbat\"\n",
      "Song 115: \"Fantastic (Demo)\"\n",
      "Song 116: \"Snow Globe (Alt Version)\"\n",
      "Song 117: \"Postura Perfeita (1994 DEMO)\"\n",
      "Song 118: \"Toothbat (Reprise)\"\n",
      "Song 119: \"REAL SUPER DARK II\"\n",
      "Song 120: \"Gwen Stefani\"\n",
      "Song 121: \"Dream Boy (JVNA Remix)\"\n",
      "Song 122: \"Untitled Demo (2013)\"\n",
      "\"Sad Game\" is not valid. Skipping.\n",
      "Song 123: \"Perfect Posture\"\n",
      "Song 124: \"Silver (Acoustic)\"\n",
      "Song 125: \"Telephone (Andrew Atwood Remix)\"\n",
      "Song 126: \"Cobblestone Grey (Funeral Grey Parody)\"\n",
      "Song 127: \"Turbulent (ASMR Remix)\"\n",
      "Song 128: \"Snow Globe (Autograf vs. Waterparks)\"\n",
      "Song 129: \"Play (Livestream 7/20/19)\"\n",
      "Song 130: \"Dream Boy (Acoustic In The Bathroom At Awsten’s Apartment Version)\"\n",
      "Song 131: \"Noise (Demo)\"\n",
      "Song 132: \"LOVE ABOUT IT\"\n",
      "Song 133: \"Lowkey As Heck\"\n",
      "Song 134: \"Violet! (MC4D Remix)\"\n",
      "Song 135: \"Dream Boy (MC4D Remix)\"\n",
      "\"SELF-SABOTAGE (MC4D Remix)\" is not valid. Skipping.\n",
      "Song 136: \"60 minutes (DEMO)\"\n",
      "Done. Found 136 songs.\n"
     ]
    }
   ],
   "source": [
    "genius = Genius(API_KEY)\n",
    "artist = genius.search_artist('Waterparks')"
   ]
  },
  {
   "cell_type": "markdown",
   "id": "da1ebe45-597b-40a5-8951-4b8c1dc216e7",
   "metadata": {},
   "source": [
    "Writing all lyrics to a JSON file, which contains metadata for each song."
   ]
  },
  {
   "cell_type": "code",
   "execution_count": 5,
   "id": "61bc7aec-f3ca-4575-924c-eea15d897a02",
   "metadata": {},
   "outputs": [
    {
     "name": "stdout",
     "output_type": "stream",
     "text": [
      "Wrote all_waterparks_lyrics.json.\n"
     ]
    }
   ],
   "source": [
    "artist.save_lyrics(filename=\"all_waterparks_lyrics.json\", extension=\"json\")"
   ]
  },
  {
   "cell_type": "code",
   "execution_count": 8,
   "id": "6ff7c9ec-8c42-420a-9978-7c84077affca",
   "metadata": {},
   "outputs": [],
   "source": [
    "# load in the json file containing song info\n",
    "json_file = open('all_waterparks_lyrics.json')\n",
    "data = json.load(json_file)"
   ]
  },
  {
   "cell_type": "code",
   "execution_count": 9,
   "id": "a0254d54-f430-4992-93eb-728c419a5991",
   "metadata": {},
   "outputs": [
    {
     "data": {
      "text/html": [
       "<div>\n",
       "<style scoped>\n",
       "    .dataframe tbody tr th:only-of-type {\n",
       "        vertical-align: middle;\n",
       "    }\n",
       "\n",
       "    .dataframe tbody tr th {\n",
       "        vertical-align: top;\n",
       "    }\n",
       "\n",
       "    .dataframe thead th {\n",
       "        text-align: right;\n",
       "    }\n",
       "</style>\n",
       "<table border=\"1\" class=\"dataframe\">\n",
       "  <thead>\n",
       "    <tr style=\"text-align: right;\">\n",
       "      <th></th>\n",
       "      <th>song_title</th>\n",
       "      <th>artist</th>\n",
       "      <th>release_date</th>\n",
       "      <th>lyrics</th>\n",
       "    </tr>\n",
       "  </thead>\n",
       "  <tbody>\n",
       "    <tr>\n",
       "      <th>0</th>\n",
       "      <td>Turbulent</td>\n",
       "      <td>Waterparks</td>\n",
       "      <td>2019-05-23</td>\n",
       "      <td>56 ContributorsTurbulent Lyrics[Verse 1]\\nYou ...</td>\n",
       "    </tr>\n",
       "    <tr>\n",
       "      <th>1</th>\n",
       "      <td>I Miss Having Sex But at Least I Don’t Wanna D...</td>\n",
       "      <td>Waterparks</td>\n",
       "      <td>2019-10-11</td>\n",
       "      <td>44 ContributorsTranslationsPolskiI Miss Having...</td>\n",
       "    </tr>\n",
       "    <tr>\n",
       "      <th>2</th>\n",
       "      <td>Stupid for You</td>\n",
       "      <td>Waterparks</td>\n",
       "      <td>2016-08-31</td>\n",
       "      <td>48 ContributorsStupid for You Lyrics[Chorus]\\n...</td>\n",
       "    </tr>\n",
       "    <tr>\n",
       "      <th>3</th>\n",
       "      <td>TANTRUM</td>\n",
       "      <td>Waterparks</td>\n",
       "      <td>2018-01-26</td>\n",
       "      <td>59 ContributorsTANTRUM Lyrics[Intro]\\nFuck the...</td>\n",
       "    </tr>\n",
       "    <tr>\n",
       "      <th>4</th>\n",
       "      <td>21 Questions</td>\n",
       "      <td>Waterparks</td>\n",
       "      <td>2016-11-04</td>\n",
       "      <td>32 Contributors21 Questions Lyrics[Verse 1]\\nI...</td>\n",
       "    </tr>\n",
       "    <tr>\n",
       "      <th>...</th>\n",
       "      <td>...</td>\n",
       "      <td>...</td>\n",
       "      <td>...</td>\n",
       "      <td>...</td>\n",
       "    </tr>\n",
       "    <tr>\n",
       "      <th>131</th>\n",
       "      <td>LOVE ABOUT IT</td>\n",
       "      <td>Waterparks (Ft. ​blackbear)</td>\n",
       "      <td>2022-10-13</td>\n",
       "      <td>3 ContributorsLOVE ABOUT IT Lyrics[Verse 1: Aw...</td>\n",
       "    </tr>\n",
       "    <tr>\n",
       "      <th>132</th>\n",
       "      <td>Lowkey As Heck</td>\n",
       "      <td>Waterparks</td>\n",
       "      <td>2020-09-24</td>\n",
       "      <td>2 ContributorsLowkey As Heck Lyrics[Verse 1]\\n...</td>\n",
       "    </tr>\n",
       "    <tr>\n",
       "      <th>133</th>\n",
       "      <td>Violet! (MC4D Remix)</td>\n",
       "      <td>Waterparks</td>\n",
       "      <td>2021-12-06</td>\n",
       "      <td>2 ContributorsViolet! (MC4D Remix) Lyrics[Vers...</td>\n",
       "    </tr>\n",
       "    <tr>\n",
       "      <th>134</th>\n",
       "      <td>Dream Boy (MC4D Remix)</td>\n",
       "      <td>Waterparks</td>\n",
       "      <td>2020-03-19</td>\n",
       "      <td>3 ContributorsDream Boy (MC4D Remix) Lyrics[Ve...</td>\n",
       "    </tr>\n",
       "    <tr>\n",
       "      <th>135</th>\n",
       "      <td>60 minutes (DEMO)</td>\n",
       "      <td>Waterparks</td>\n",
       "      <td>None</td>\n",
       "      <td>1 Contributor60 minutes (DEMO) LyricsNow I'm t...</td>\n",
       "    </tr>\n",
       "  </tbody>\n",
       "</table>\n",
       "<p>136 rows × 4 columns</p>\n",
       "</div>"
      ],
      "text/plain": [
       "                                            song_title  \\\n",
       "0                                            Turbulent   \n",
       "1    I Miss Having Sex But at Least I Don’t Wanna D...   \n",
       "2                                       Stupid for You   \n",
       "3                                              TANTRUM   \n",
       "4                                         21 Questions   \n",
       "..                                                 ...   \n",
       "131                                      LOVE ABOUT IT   \n",
       "132                                     Lowkey As Heck   \n",
       "133                               Violet! (MC4D Remix)   \n",
       "134                             Dream Boy (MC4D Remix)   \n",
       "135                                  60 minutes (DEMO)   \n",
       "\n",
       "                          artist release_date  \\\n",
       "0                     Waterparks   2019-05-23   \n",
       "1                     Waterparks   2019-10-11   \n",
       "2                     Waterparks   2016-08-31   \n",
       "3                     Waterparks   2018-01-26   \n",
       "4                     Waterparks   2016-11-04   \n",
       "..                           ...          ...   \n",
       "131  Waterparks (Ft. ​blackbear)   2022-10-13   \n",
       "132                   Waterparks   2020-09-24   \n",
       "133                   Waterparks   2021-12-06   \n",
       "134                   Waterparks   2020-03-19   \n",
       "135                   Waterparks         None   \n",
       "\n",
       "                                                lyrics  \n",
       "0    56 ContributorsTurbulent Lyrics[Verse 1]\\nYou ...  \n",
       "1    44 ContributorsTranslationsPolskiI Miss Having...  \n",
       "2    48 ContributorsStupid for You Lyrics[Chorus]\\n...  \n",
       "3    59 ContributorsTANTRUM Lyrics[Intro]\\nFuck the...  \n",
       "4    32 Contributors21 Questions Lyrics[Verse 1]\\nI...  \n",
       "..                                                 ...  \n",
       "131  3 ContributorsLOVE ABOUT IT Lyrics[Verse 1: Aw...  \n",
       "132  2 ContributorsLowkey As Heck Lyrics[Verse 1]\\n...  \n",
       "133  2 ContributorsViolet! (MC4D Remix) Lyrics[Vers...  \n",
       "134  3 ContributorsDream Boy (MC4D Remix) Lyrics[Ve...  \n",
       "135  1 Contributor60 minutes (DEMO) LyricsNow I'm t...  \n",
       "\n",
       "[136 rows x 4 columns]"
      ]
     },
     "execution_count": 9,
     "metadata": {},
     "output_type": "execute_result"
    }
   ],
   "source": [
    "# put song title, artists, release date, and lyrics into a dataframe\n",
    "song_dicts = []\n",
    "for song in data['songs']:\n",
    "    song_title = song[\"title\"]\n",
    "    artist = song[\"artist_names\"]\n",
    "    release_date = song[\"release_date\"]\n",
    "    lyrics = song[\"lyrics\"]\n",
    "    song_dict = {\"song_title\": song_title, \n",
    "                 \"artist\": artist, \n",
    "                 \"release_date\": release_date, \n",
    "                 \"lyrics\": lyrics}\n",
    "    song_dicts.append(song_dict)\n",
    " \n",
    "json_file.close()\n",
    "track_info = pd.DataFrame(song_dicts)\n",
    "track_info"
   ]
  },
  {
   "cell_type": "code",
   "execution_count": 10,
   "id": "31912d72-4544-4979-8855-b30c1cfb7b39",
   "metadata": {
    "scrolled": true
   },
   "outputs": [
    {
     "data": {
      "text/plain": [
       "array(['11:11', '2 BEST FRIENDS', '21 Questions', '60 minutes (DEMO)',\n",
       "       'A NIGHT OUT ON EARTH', 'All By Myself', 'American Graffiti',\n",
       "       'American History', 'BRAINWASHED', 'Beating Heart Baby', 'Beep Me',\n",
       "       'Blonde', 'Bones of ’92', 'CLOSER', 'Candy', 'Cherry Red',\n",
       "       'Christmas', 'Cobblestone Grey (Funeral Grey Parody)', 'Crave',\n",
       "       'Crybaby', 'Crying Over It All', 'Dizzy', 'Double Dare 2019',\n",
       "       'Dream Boy',\n",
       "       'Dream Boy (Acoustic In The Bathroom At Awsten’s Apartment Version)',\n",
       "       'Dream Boy (JVNA Remix)', 'Dream Boy (MC4D Remix)',\n",
       "       'END OF THE WATER (Alt Version)', 'END OF THE WATER (FEEL)',\n",
       "       'Easter Egg', 'Easy To Hate', 'Entertainment 2019', 'Everywhere',\n",
       "       'FUCK ABOUT IT', 'FUNERAL GREY', 'Fantastic', 'Fantastic (Demo)',\n",
       "       'Friendly Reminder', 'Fruit Roll Ups', 'Fuzzy',\n",
       "       'Gladiator (Interlude)', 'Glitter Times (1997 DEMO)', 'Gloom Boys',\n",
       "       'Greatest Hits', 'Group Chat', 'Gwen Stefani',\n",
       "       'Hawaii (Stay Awake)', 'High Definition', 'Hitchin’ A Ride',\n",
       "       'I Felt Younger When We Met',\n",
       "       'I Felt Younger When We Met (Home Demo Version)',\n",
       "       'I Miss Having Sex But at Least I Don’t Wanna Die Anymore',\n",
       "       'I Was Hiding Under Your Porch Because I Love You', 'Ice Bath',\n",
       "       'It Follows', 'I’ll Always Be Around', 'I’m a Natural Blue',\n",
       "       'Just Kidding', 'Kiwi (Play)', 'LIFE IS PUKE (20,000) (1995 DEMO)',\n",
       "       'LIKE IT', 'LIKE IT (Alt Version)', 'LOVE ABOUT IT',\n",
       "       'Last Heaven (1996 DEMO)', 'Lemonade (1998 DEMO)',\n",
       "       'Little Violence', 'Lowkey As Heck', 'Lowkey as Hell',\n",
       "       'Lucky People', 'Mad All the Time', 'Made in America', 'Magnetic',\n",
       "       'Need Me Back (Snippet)', 'Never Bloom Again', 'New Wave',\n",
       "       'Night Maps', 'No Capes', 'Noise (1997 DEMO)', 'Noise (Demo)',\n",
       "       'Not Warriors', 'Numb', 'Peach (Lobotomy)', 'Perfect Posture',\n",
       "       'Perfect Posture (1994 DEMO)', 'Pink', 'Play (Livestream 7/20/19)',\n",
       "       'Play (Unreleased)', 'Plum Island', 'Postura Perfeita (1994 DEMO)',\n",
       "       'Powerless', 'REAL SUPER DARK', 'REAL SUPER DARK II', 'RITUAL',\n",
       "       'Rare', 'Read My Mind (1995 DEMO)', 'Royal', 'SELF-SABOTAGE',\n",
       "       'SELF-SABOTAGE (Remix)', 'SNEAKING OUT OF HEAVEN', 'SOULSUCKER',\n",
       "       'ST*RFUCKER', 'See You In The Future', 'Silver',\n",
       "       'Silver (Acoustic)', 'Sleep Alone', 'Snow Globe',\n",
       "       'Snow Globe (Alt Version)', 'Snow Globe (Autograf vs. Waterparks)',\n",
       "       'Sorry As I’ll Ever Be (1997 DEMO)', 'Stupid for You', 'TANTRUM',\n",
       "       'Take Her to the Moon', 'Teenage Jealousy (1997 DEMO)',\n",
       "       'Telephone', 'Telephone (Andrew Atwood Remix)', 'Territory',\n",
       "       'The Secret Life of Me', 'The Secret Life of Me (Alt Version)',\n",
       "       'They All Float', 'Toothbat', 'Toothbat (Reprise)', 'Turbulent',\n",
       "       'Turbulent (ASMR Remix)', 'Turbulent (Clean Version)',\n",
       "       'Untitled Demo (2013)', 'Violet!', 'Violet! (MC4D Remix)',\n",
       "       'WHY CAN’T I?', 'War Crimes', 'Watch What Happens Next',\n",
       "       'We Need to Talk', 'What We Do for Fun', 'Worst',\n",
       "       'You’d Be Paranoid Too (If Everyone Was Out to Get You)',\n",
       "       'Zone Out', '[Reboot]'], dtype=object)"
      ]
     },
     "execution_count": 10,
     "metadata": {},
     "output_type": "execute_result"
    }
   ],
   "source": [
    "np.unique(track_info[\"song_title\"])"
   ]
  },
  {
   "cell_type": "markdown",
   "id": "4084e5a2-4d02-4107-a203-929bd29923e3",
   "metadata": {},
   "source": [
    "Notice from the above that there are lots of remixes and demos etc. that I ultimately do not want included in the game. So, I created a playlist of the songs that I *do* want included in Spotify and I will scrape the titles from there to filter unwanted songs out. \n",
    "\n",
    "I've also created a smaller playlist that consists of only songs from EPs and albums (no demos, covers, etc.)."
   ]
  },
  {
   "cell_type": "code",
   "execution_count": 12,
   "id": "bfd46029-6d81-4300-8253-3fe37fc69d9c",
   "metadata": {},
   "outputs": [],
   "source": [
    "spotify = spotipy.Spotify(client_credentials_manager=SpotifyClientCredentials(client_id=\"e26bdc1cd33b4f56b034cbe51a345704\", \n",
    "                                                                              client_secret=\"a3afcb8abca942b9b94c8e776fd8e5c6\"))"
   ]
  },
  {
   "cell_type": "code",
   "execution_count": 18,
   "id": "a36ab331-e23f-4ec4-8648-a91e266419cf",
   "metadata": {},
   "outputs": [],
   "source": [
    "all_playlist = \"https://open.spotify.com/playlist/3vv4oGMDgMPTJ5BCoUxxr9?si=01d8be4dc3c94632\"\n",
    "subset_playlist = \"https://open.spotify.com/playlist/1diqTEL8WlPNxEAHfbgUGs?si=f679c7f972d14e87\""
   ]
  },
  {
   "cell_type": "code",
   "execution_count": 15,
   "id": "9d8dbe78-6baa-4115-b7f4-e7dd700d9032",
   "metadata": {},
   "outputs": [],
   "source": [
    "# function that retrieves all track names from playlist\n",
    "def get_track_names(playlist_link, spotify=spotify):\n",
    "    track_names = []\n",
    "    for track_info in spotify.playlist_tracks(playlist_link)[\"items\"]: \n",
    "        info = track_info[\"track\"]\n",
    "        track_name = info[\"name\"]\n",
    "        track_names.append(track_name)\n",
    "    return track_names"
   ]
  },
  {
   "cell_type": "code",
   "execution_count": 55,
   "id": "4d2d21d4-19b9-4fb6-b1a7-70051299ea6c",
   "metadata": {},
   "outputs": [
    {
     "name": "stdout",
     "output_type": "stream",
     "text": [
      "97\n",
      "['Silver', \"Bones of '92\", 'I Was Hiding Under Your Porch Because I Love You', 'They All Float', 'Fantastic', 'Christmas (feat. Tyler Welsh)', 'American History', 'Easter Egg', 'New Wave', 'Night Maps (feat. Fred Mascherino)', \"I'm a Natural Blue\", 'Crave', 'Territory', 'Mad All the Time', 'Pink', 'No Capes', 'Hawaii (Stay Awake)', 'Gloom Boys', 'Stupid for You', 'Royal', 'Take Her to the Moon', 'Made in America', 'Dizzy', 'Powerless', 'Little Violence', '21 Questions', 'It Follows', 'Plum Island', \"I'll Always Be Around\", '11:11', 'Blonde', 'Peach (Lobotomy)', 'We Need to Talk', 'Not Warriors', 'Lucky People', 'Rare', 'TANTRUM', 'Crybaby', 'Sleep Alone', 'rainy days in la', 'Beating Heart Baby', 'Cherry Red', 'Watch What Happens Next', 'Dream Boy', 'Easy To Hate', 'High Definition', 'Telephone', 'Group Chat', 'Turbulent', 'Never Bloom Again', \"I Miss Having Sex But At Least I Don't Wanna Die Anymore\", 'War Crimes', '[Reboot]', 'Worst', 'Zone Out', 'I Felt Younger When We Met', 'Greatest Hits', 'Fuzzy', 'Lowkey As Hell', 'Numb', 'Violet!', 'Snow Globe', 'Just Kidding', 'The Secret Life of Me', 'American Graffiti', 'You’d Be Paranoid Too (If Everyone Was Out To Get You)', 'Fruit Roll Ups', 'LIKE IT', 'Gladiator (Interlude)', 'Magnetic', 'Crying Over It All', 'Ice Bath', 'See You In In The Future', 'ST*RFUCKER', 'REAL SUPER DARK', 'FUNERAL GREY', 'BRAINWASHED', '2 BEST FRIENDS', 'END OF THE WATER (FEEL)', 'SELF-SABOTAGE', 'RITUAL', 'FUCK ABOUT IT (feat. blackbear)', 'CLOSER', 'A NIGHT OUT ON EARTH', 'SNEAKING OUT OF HEAVEN', 'Candy', 'What We Do For Fun', 'Noise (1997 demo)', 'Teenage Jealousy (1997 demo)', 'Life Is Puke (20,000) (1995 demo)', 'Read My Mind (1995 demo)', 'Glitter Times (1997 demo)', 'Perfect Posture (1994 demo)', 'Lemonade (1998 demo)', \"Sorry As I'll Ever Be (1997 demo)\", 'Last Heaven (1996 demo)', \"Why Can't I\"]\n"
     ]
    }
   ],
   "source": [
    "all_songs = get_track_names(all_playlist)\n",
    "print(len(all_songs))\n",
    "print(all_songs)"
   ]
  },
  {
   "cell_type": "code",
   "execution_count": 48,
   "id": "125ab7d1-f2b0-4032-a6c6-da9e43d0bff6",
   "metadata": {},
   "outputs": [
    {
     "name": "stdout",
     "output_type": "stream",
     "text": [
      "83\n",
      "['Silver', \"Bones of '92\", 'I Was Hiding Under Your Porch Because I Love You', 'They All Float', 'Fantastic', 'Christmas (feat. Tyler Welsh)', 'American History', 'Easter Egg', 'New Wave', 'Night Maps (feat. Fred Mascherino)', \"I'm a Natural Blue\", 'Crave', 'Territory', 'Mad All the Time', 'Pink', 'No Capes', 'Hawaii (Stay Awake)', 'Gloom Boys', 'Stupid for You', 'Royal', 'Take Her to the Moon', 'Made in America', 'Dizzy', 'Powerless', 'Little Violence', '21 Questions', 'It Follows', 'Plum Island', \"I'll Always Be Around\", '11:11', 'Blonde', 'Peach (Lobotomy)', 'We Need to Talk', 'Not Warriors', 'Lucky People', 'Rare', 'TANTRUM', 'Crybaby', 'Sleep Alone', 'Cherry Red', 'Watch What Happens Next', 'Dream Boy', 'Easy To Hate', 'High Definition', 'Telephone', 'Group Chat', 'Turbulent', 'Never Bloom Again', \"I Miss Having Sex But At Least I Don't Wanna Die Anymore\", 'War Crimes', '[Reboot]', 'Worst', 'Zone Out', 'I Felt Younger When We Met', 'Greatest Hits', 'Fuzzy', 'Lowkey As Hell', 'Numb', 'Violet!', 'Snow Globe', 'Just Kidding', 'The Secret Life of Me', 'American Graffiti', 'You’d Be Paranoid Too (If Everyone Was Out To Get You)', 'Fruit Roll Ups', 'LIKE IT', 'Gladiator (Interlude)', 'Magnetic', 'Crying Over It All', 'Ice Bath', 'See You In In The Future', 'ST*RFUCKER', 'REAL SUPER DARK', 'FUNERAL GREY', 'BRAINWASHED', '2 BEST FRIENDS', 'END OF THE WATER (FEEL)', 'SELF-SABOTAGE', 'RITUAL', 'FUCK ABOUT IT (feat. blackbear)', 'CLOSER', 'A NIGHT OUT ON EARTH', 'SNEAKING OUT OF HEAVEN']\n"
     ]
    }
   ],
   "source": [
    "album_songs = get_track_names(subset_playlist)\n",
    "print(len(album_songs))\n",
    "print(album_songs)"
   ]
  },
  {
   "cell_type": "markdown",
   "id": "a4ef1d64-d6a9-4fbe-93cb-684856f4a2c4",
   "metadata": {},
   "source": [
    "We need to correspond the scraped Genius lyrics to the song titles from the Spotify playlists. "
   ]
  },
  {
   "cell_type": "code",
   "execution_count": 25,
   "id": "f6576a8a-bd80-4c08-8d61-acf9b0dd3e88",
   "metadata": {},
   "outputs": [
    {
     "data": {
      "text/plain": [
       "{\"bones of '92\",\n",
       " 'christmas (feat. tyler welsh)',\n",
       " 'fuck about it (feat. blackbear)',\n",
       " \"i miss having sex but at least i don't wanna die anymore\",\n",
       " \"i'll always be around\",\n",
       " \"i'm a natural blue\",\n",
       " 'night maps (feat. fred mascherino)',\n",
       " 'rainy days in la',\n",
       " 'see you in in the future',\n",
       " \"sorry as i'll ever be (1997 demo)\",\n",
       " \"why can't i\"}"
      ]
     },
     "execution_count": 25,
     "metadata": {},
     "output_type": "execute_result"
    }
   ],
   "source": [
    "# songs I want to include in all_songs but do not have corresponding lyrics\n",
    "set([song.lower() for song in all_songs]) - set(track_info[\"song_title\"].str.lower())"
   ]
  },
  {
   "cell_type": "code",
   "execution_count": 26,
   "id": "69a50994-4e92-4665-9e2a-ba4b38b56725",
   "metadata": {},
   "outputs": [
    {
     "data": {
      "text/plain": [
       "{\"bones of '92\",\n",
       " 'christmas (feat. tyler welsh)',\n",
       " 'fuck about it (feat. blackbear)',\n",
       " \"i miss having sex but at least i don't wanna die anymore\",\n",
       " \"i'll always be around\",\n",
       " \"i'm a natural blue\",\n",
       " 'night maps (feat. fred mascherino)',\n",
       " 'see you in in the future'}"
      ]
     },
     "execution_count": 26,
     "metadata": {},
     "output_type": "execute_result"
    }
   ],
   "source": [
    "set([song.lower() for song in album_songs]) - set(track_info[\"song_title\"].str.lower())"
   ]
  },
  {
   "cell_type": "markdown",
   "id": "d0c1348b-3047-4bdf-b13e-f3c1894f819a",
   "metadata": {},
   "source": [
    "Reasons for the missing correspondances include: \n",
    "\n",
    "- Mismatched apostrophes\n",
    "- Parentheses, e.g. (feat. blackbear)\n",
    "- See You In *In* The Future\n",
    "- Question mark for Why Can't I?\n",
    "- Rainy days in LA not found"
   ]
  },
  {
   "cell_type": "code",
   "execution_count": 56,
   "id": "3e3b8cd0-d9c6-4aeb-9408-f51a5b695faf",
   "metadata": {},
   "outputs": [],
   "source": [
    "# fixing the names in the dataframe\n",
    "## apostrophe\n",
    "track_info[\"song_title\"] = track_info[\"song_title\"].str.replace(\"’\", \"'\")\n",
    "## add the parentheses (for matching purposes, later on all parentheses will be removed)\n",
    "track_info.loc[track_info[\"song_title\"] == \"FUCK ABOUT IT\", \"song_title\"] = \"FUCK ABOUT IT (feat. blackbear)\"\n",
    "track_info.loc[track_info[\"song_title\"] == \"Christmas\", \"song_title\"] = \"Christmas (feat. Tyler Welsh)\"\n",
    "track_info.loc[track_info[\"song_title\"] == \"Night Maps\", \"song_title\"] = \"Night Maps (feat. Fred Mascherino)\"\n",
    "# see you in the future\n",
    "track_info.loc[track_info[\"song_title\"] == \"See You In The Future\", \"song_title\"] = \"See You In In The Future\"\n",
    "# correcting Why Can't I? on my end\n",
    "all_songs.remove(\"Why Can't I\")\n",
    "all_songs = all_songs + [\"WHY CAN'T I?\"]\n",
    "# removing rainy days in LA\n",
    "all_songs.remove(\"rainy days in la\")"
   ]
  },
  {
   "cell_type": "code",
   "execution_count": 57,
   "id": "f53860b2-f4c8-4385-845b-af19f04d205b",
   "metadata": {},
   "outputs": [
    {
     "data": {
      "text/plain": [
       "96"
      ]
     },
     "execution_count": 57,
     "metadata": {},
     "output_type": "execute_result"
    }
   ],
   "source": [
    "len(all_songs)"
   ]
  },
  {
   "cell_type": "code",
   "execution_count": 58,
   "id": "c029cc7f-776d-4046-ae3d-c50b7b2d7a6c",
   "metadata": {},
   "outputs": [
    {
     "data": {
      "text/plain": [
       "{'you’d be paranoid too (if everyone was out to get you)'}"
      ]
     },
     "execution_count": 58,
     "metadata": {},
     "output_type": "execute_result"
    }
   ],
   "source": [
    "set([song.lower() for song in all_songs]) - set(track_info[\"song_title\"].str.lower())"
   ]
  },
  {
   "cell_type": "code",
   "execution_count": 59,
   "id": "1d5cd1c2-1360-4ce2-b8f1-7fd6cbea7a7b",
   "metadata": {},
   "outputs": [
    {
     "data": {
      "text/plain": [
       "{'you’d be paranoid too (if everyone was out to get you)'}"
      ]
     },
     "execution_count": 59,
     "metadata": {},
     "output_type": "execute_result"
    }
   ],
   "source": [
    "set([song.lower() for song in album_songs]) - set(track_info[\"song_title\"].str.lower())"
   ]
  },
  {
   "cell_type": "code",
   "execution_count": 60,
   "id": "1e6a7e9d-8def-4008-9420-564d9c379b3f",
   "metadata": {},
   "outputs": [],
   "source": [
    "# some weird apostrophe inconsistencies - will fix here\n",
    "all_songs.remove(\"You’d Be Paranoid Too (If Everyone Was Out To Get You)\")\n",
    "all_songs = all_songs + [\"You'd Be Paranoid Too (If Everyone Was Out to Get You)\"]"
   ]
  },
  {
   "cell_type": "code",
   "execution_count": 61,
   "id": "839ce965-f49c-49c1-8316-5291c2213eb8",
   "metadata": {},
   "outputs": [],
   "source": [
    "album_songs.remove(\"You’d Be Paranoid Too (If Everyone Was Out To Get You)\")\n",
    "album_songs = album_songs + [\"You'd Be Paranoid Too (If Everyone Was Out to Get You)\"]"
   ]
  },
  {
   "cell_type": "code",
   "execution_count": 62,
   "id": "f8a9bfb4-0c91-4388-9f61-0c47c5d66c9c",
   "metadata": {},
   "outputs": [
    {
     "data": {
      "text/plain": [
       "set()"
      ]
     },
     "execution_count": 62,
     "metadata": {},
     "output_type": "execute_result"
    }
   ],
   "source": [
    "set([song.lower() for song in all_songs]) - set(track_info[\"song_title\"].str.lower())"
   ]
  },
  {
   "cell_type": "code",
   "execution_count": 63,
   "id": "e75373cf-d858-4209-b4e7-b2adf9ab09db",
   "metadata": {},
   "outputs": [
    {
     "data": {
      "text/plain": [
       "set()"
      ]
     },
     "execution_count": 63,
     "metadata": {},
     "output_type": "execute_result"
    }
   ],
   "source": [
    "set([song.lower() for song in album_songs]) - set(track_info[\"song_title\"].str.lower())"
   ]
  },
  {
   "cell_type": "markdown",
   "id": "41325294-1339-4fa2-93a3-4067e1dc3235",
   "metadata": {},
   "source": [
    "Track title inconsistencies all fixed!"
   ]
  },
  {
   "cell_type": "markdown",
   "id": "199c1429-2028-4a2c-a09a-30c012d86544",
   "metadata": {},
   "source": [
    "The next step is to remove all songs from the dataframe who are not in all_songs."
   ]
  },
  {
   "cell_type": "code",
   "execution_count": 103,
   "id": "2c2119a0-0f5e-4141-90fb-d0ee7962b6f0",
   "metadata": {},
   "outputs": [],
   "source": [
    "track_info_filt = track_info[track_info['song_title'].str.lower().isin([song.lower() for song in all_songs])]"
   ]
  },
  {
   "cell_type": "code",
   "execution_count": 104,
   "id": "3e381e2a-abbe-4df0-8150-bb6dcc43b40c",
   "metadata": {},
   "outputs": [
    {
     "data": {
      "text/html": [
       "<div>\n",
       "<style scoped>\n",
       "    .dataframe tbody tr th:only-of-type {\n",
       "        vertical-align: middle;\n",
       "    }\n",
       "\n",
       "    .dataframe tbody tr th {\n",
       "        vertical-align: top;\n",
       "    }\n",
       "\n",
       "    .dataframe thead th {\n",
       "        text-align: right;\n",
       "    }\n",
       "</style>\n",
       "<table border=\"1\" class=\"dataframe\">\n",
       "  <thead>\n",
       "    <tr style=\"text-align: right;\">\n",
       "      <th></th>\n",
       "      <th>song_title</th>\n",
       "      <th>artist</th>\n",
       "      <th>release_date</th>\n",
       "      <th>lyrics</th>\n",
       "    </tr>\n",
       "  </thead>\n",
       "  <tbody>\n",
       "    <tr>\n",
       "      <th>0</th>\n",
       "      <td>Turbulent</td>\n",
       "      <td>Waterparks</td>\n",
       "      <td>2019-05-23</td>\n",
       "      <td>56 ContributorsTurbulent Lyrics[Verse 1]\\nYou ...</td>\n",
       "    </tr>\n",
       "    <tr>\n",
       "      <th>1</th>\n",
       "      <td>I Miss Having Sex But at Least I Don't Wanna D...</td>\n",
       "      <td>Waterparks</td>\n",
       "      <td>2019-10-11</td>\n",
       "      <td>44 ContributorsTranslationsPolskiI Miss Having...</td>\n",
       "    </tr>\n",
       "    <tr>\n",
       "      <th>2</th>\n",
       "      <td>Stupid for You</td>\n",
       "      <td>Waterparks</td>\n",
       "      <td>2016-08-31</td>\n",
       "      <td>48 ContributorsStupid for You Lyrics[Chorus]\\n...</td>\n",
       "    </tr>\n",
       "    <tr>\n",
       "      <th>3</th>\n",
       "      <td>TANTRUM</td>\n",
       "      <td>Waterparks</td>\n",
       "      <td>2018-01-26</td>\n",
       "      <td>59 ContributorsTANTRUM Lyrics[Intro]\\nFuck the...</td>\n",
       "    </tr>\n",
       "    <tr>\n",
       "      <th>4</th>\n",
       "      <td>21 Questions</td>\n",
       "      <td>Waterparks</td>\n",
       "      <td>2016-11-04</td>\n",
       "      <td>32 Contributors21 Questions Lyrics[Verse 1]\\nI...</td>\n",
       "    </tr>\n",
       "    <tr>\n",
       "      <th>...</th>\n",
       "      <td>...</td>\n",
       "      <td>...</td>\n",
       "      <td>...</td>\n",
       "      <td>...</td>\n",
       "    </tr>\n",
       "    <tr>\n",
       "      <th>93</th>\n",
       "      <td>Bones of '92</td>\n",
       "      <td>Waterparks</td>\n",
       "      <td>2012-04-03</td>\n",
       "      <td>14 ContributorsBones of ’92 Lyrics[Chorus]\\nSi...</td>\n",
       "    </tr>\n",
       "    <tr>\n",
       "      <th>94</th>\n",
       "      <td>New Wave</td>\n",
       "      <td>Waterparks</td>\n",
       "      <td>2014-06-04</td>\n",
       "      <td>8 ContributorsNew Wave Lyrics[Verse 1]\\nCall i...</td>\n",
       "    </tr>\n",
       "    <tr>\n",
       "      <th>96</th>\n",
       "      <td>WHY CAN'T I?</td>\n",
       "      <td>Waterparks</td>\n",
       "      <td>2023-04-14</td>\n",
       "      <td>6 ContributorsWHY CAN’T I? Lyrics[Verse 1]\\n\"G...</td>\n",
       "    </tr>\n",
       "    <tr>\n",
       "      <th>99</th>\n",
       "      <td>LIFE IS PUKE (20,000) (1995 DEMO)</td>\n",
       "      <td>Waterparks</td>\n",
       "      <td>2020-01-22</td>\n",
       "      <td>12 ContributorsLIFE IS PUKE (20,000) (1995 DEM...</td>\n",
       "    </tr>\n",
       "    <tr>\n",
       "      <th>100</th>\n",
       "      <td>Beating Heart Baby</td>\n",
       "      <td>Waterparks</td>\n",
       "      <td>None</td>\n",
       "      <td>8 ContributorsBeating Heart Baby Lyrics[Intro]...</td>\n",
       "    </tr>\n",
       "  </tbody>\n",
       "</table>\n",
       "<p>96 rows × 4 columns</p>\n",
       "</div>"
      ],
      "text/plain": [
       "                                            song_title      artist  \\\n",
       "0                                            Turbulent  Waterparks   \n",
       "1    I Miss Having Sex But at Least I Don't Wanna D...  Waterparks   \n",
       "2                                       Stupid for You  Waterparks   \n",
       "3                                              TANTRUM  Waterparks   \n",
       "4                                         21 Questions  Waterparks   \n",
       "..                                                 ...         ...   \n",
       "93                                        Bones of '92  Waterparks   \n",
       "94                                            New Wave  Waterparks   \n",
       "96                                        WHY CAN'T I?  Waterparks   \n",
       "99                   LIFE IS PUKE (20,000) (1995 DEMO)  Waterparks   \n",
       "100                                 Beating Heart Baby  Waterparks   \n",
       "\n",
       "    release_date                                             lyrics  \n",
       "0     2019-05-23  56 ContributorsTurbulent Lyrics[Verse 1]\\nYou ...  \n",
       "1     2019-10-11  44 ContributorsTranslationsPolskiI Miss Having...  \n",
       "2     2016-08-31  48 ContributorsStupid for You Lyrics[Chorus]\\n...  \n",
       "3     2018-01-26  59 ContributorsTANTRUM Lyrics[Intro]\\nFuck the...  \n",
       "4     2016-11-04  32 Contributors21 Questions Lyrics[Verse 1]\\nI...  \n",
       "..           ...                                                ...  \n",
       "93    2012-04-03  14 ContributorsBones of ’92 Lyrics[Chorus]\\nSi...  \n",
       "94    2014-06-04  8 ContributorsNew Wave Lyrics[Verse 1]\\nCall i...  \n",
       "96    2023-04-14  6 ContributorsWHY CAN’T I? Lyrics[Verse 1]\\n\"G...  \n",
       "99    2020-01-22  12 ContributorsLIFE IS PUKE (20,000) (1995 DEM...  \n",
       "100         None  8 ContributorsBeating Heart Baby Lyrics[Intro]...  \n",
       "\n",
       "[96 rows x 4 columns]"
      ]
     },
     "execution_count": 104,
     "metadata": {},
     "output_type": "execute_result"
    }
   ],
   "source": [
    "track_info_filt"
   ]
  },
  {
   "cell_type": "markdown",
   "id": "c83ae6a0-0828-40e8-9eff-cd3a45de4b81",
   "metadata": {},
   "source": [
    "And now we have to clean the lyrics.\n",
    "\n",
    "Notice that each of the lyrics strings are structured as below: "
   ]
  },
  {
   "cell_type": "code",
   "execution_count": 105,
   "id": "9e1df5bd-58e8-4ce2-9116-797a889d0439",
   "metadata": {},
   "outputs": [
    {
     "data": {
      "text/plain": [
       "\"29 ContributorsST*RFUCKER Lyrics[Intro]\\n(Yo, imagine an album starting with this)\\n(Like a big breath, close your eyes and shit)\\n\\n[Verse 1]\\nI'm gonna move out of my loft\\nAnd into a limousine\\nSo I can drive you fuckin' crazy\\nAnd crash out where I sleep, yeah\\nJesus Christ won't text me back\\nI'll always be around, in fact\\nI'm climbin' up to your window now\\nRunnin' back to you at the speed of sound\\n\\n[Chorus]\\nIt's been a pleasure\\nIt's nice to meet you\\nIt's been a pleasure\\nIt's nice to meet you\\nIt's been a pleasure (So destroy my world, I'll tape the cracks)\\nIt's nice to meet you ('Cause what you give out's what you get back)\\nIt's been a pleasure (I'll stop the world, I'll tape the cracks)\\nIt's nice to meet you (What you give out's what you get back)\\n\\n[Verse 2]\\nMaybe I'm a soul-sucker\\nBut you're just a starfucker\\nI signed somebody's NDA\\nI'll go away, but LA's such a fuckin' weird place (One, two, three, four)\\nBet you wouldn't ask me to do that by this time next year\\nYou can't hide my face but save me for a rainy day, it don't go two ways (No)\\nI don't wanna be toxic, I just wanna be honest\\nBut this shit hits like a comet and it just hurts 'cause I want it\\nYeah, it just hurts 'cause I want it\\nYou might also like[Chorus]\\nIt's been a pleasure\\nIt's nice to meet you\\nIt's been a pleasure\\nIt's nice to meet you\\nIt's been a pleasure (So destroy my world, I'll tape the cracks)\\nIt's nice to meet you ('Cause what you give out's what you get back)\\nIt's been a pleasure (I'll stop the world, I'll tape the cracks)\\nIt's nice to meet you (What you give out's what you get back)\\n(That's the law of attract—)\\n\\n[Outro]\\nI'm saying picture that but, like, right before things go darkEmbed\""
      ]
     },
     "execution_count": 105,
     "metadata": {},
     "output_type": "execute_result"
    }
   ],
   "source": [
    "track_info_filt[\"lyrics\"][56]"
   ]
  },
  {
   "cell_type": "markdown",
   "id": "40bf58ea-af57-4f2a-b046-05b0b841c610",
   "metadata": {},
   "source": [
    "- There is a bunch of junk up to [Verse 1] or [Intro] (the first \"[\")\n",
    "- At the very end, there is some number + Embed\n",
    "\n",
    "Other things that need to be fixed: \n",
    "- Unicode characters (e.g. \\u2005a) should be replaced with a space\n",
    "- Newline \\n. Will keep for now to split each song's lyrics into lines\n",
    "- Section indicators, e.g. [Chorus]. Will keep for now to create a new column with the section"
   ]
  },
  {
   "cell_type": "code",
   "execution_count": 106,
   "id": "da000af7-a110-469e-8495-bce7874d1d63",
   "metadata": {},
   "outputs": [
    {
     "name": "stderr",
     "output_type": "stream",
     "text": [
      "/tmp/ipykernel_24467/4171974222.py:2: SettingWithCopyWarning: \n",
      "A value is trying to be set on a copy of a slice from a DataFrame.\n",
      "Try using .loc[row_indexer,col_indexer] = value instead\n",
      "\n",
      "See the caveats in the documentation: https://pandas.pydata.org/pandas-docs/stable/user_guide/indexing.html#returning-a-view-versus-a-copy\n",
      "  track_info_filt[\"lyrics\"] = track_info_filt[\"lyrics\"].replace(r\"^.*?\\[\", \"[\", regex=True)\n"
     ]
    }
   ],
   "source": [
    "# remove everything up to the first [\n",
    "track_info_filt[\"lyrics\"] = track_info_filt[\"lyrics\"].replace(r\"^.*?\\[\", \"[\", regex=True)"
   ]
  },
  {
   "cell_type": "code",
   "execution_count": 107,
   "id": "bbe3cda7-77cf-4a53-9586-c061539a06a1",
   "metadata": {},
   "outputs": [
    {
     "data": {
      "text/plain": [
       "\"[Intro]\\n(Yo, imagine an album starting with this)\\n(Like a big breath, close your eyes and shit)\\n\\n[Verse 1]\\nI'm gonna move out of my loft\\nAnd into a limousine\\nSo I can drive you fuckin' crazy\\nAnd crash out where I sleep, yeah\\nJesus Christ won't text me back\\nI'll always be around, in fact\\nI'm climbin' up to your window now\\nRunnin' back to you at the speed of sound\\n\\n[Chorus]\\nIt's been a pleasure\\nIt's nice to meet you\\nIt's been a pleasure\\nIt's nice to meet you\\nIt's been a pleasure (So destroy my world, I'll tape the cracks)\\nIt's nice to meet you ('Cause what you give out's what you get back)\\nIt's been a pleasure (I'll stop the world, I'll tape the cracks)\\nIt's nice to meet you (What you give out's what you get back)\\n\\n[Verse 2]\\nMaybe I'm a soul-sucker\\nBut you're just a starfucker\\nI signed somebody's NDA\\nI'll go away, but LA's such a fuckin' weird place (One, two, three, four)\\nBet you wouldn't ask me to do that by this time next year\\nYou can't hide my face but save me for a rainy day, it don't go two ways (No)\\nI don't wanna be toxic, I just wanna be honest\\nBut this shit hits like a comet and it just hurts 'cause I want it\\nYeah, it just hurts 'cause I want it\\nYou might also like[Chorus]\\nIt's been a pleasure\\nIt's nice to meet you\\nIt's been a pleasure\\nIt's nice to meet you\\nIt's been a pleasure (So destroy my world, I'll tape the cracks)\\nIt's nice to meet you ('Cause what you give out's what you get back)\\nIt's been a pleasure (I'll stop the world, I'll tape the cracks)\\nIt's nice to meet you (What you give out's what you get back)\\n(That's the law of attract—)\\n\\n[Outro]\\nI'm saying picture that but, like, right before things go darkEmbed\""
      ]
     },
     "execution_count": 107,
     "metadata": {},
     "output_type": "execute_result"
    }
   ],
   "source": [
    "track_info_filt[\"lyrics\"][56]"
   ]
  },
  {
   "cell_type": "code",
   "execution_count": 108,
   "id": "2739954a-18db-4d20-8cbd-8e79e010bfcf",
   "metadata": {},
   "outputs": [
    {
     "name": "stderr",
     "output_type": "stream",
     "text": [
      "/tmp/ipykernel_24467/990332170.py:2: SettingWithCopyWarning: \n",
      "A value is trying to be set on a copy of a slice from a DataFrame.\n",
      "Try using .loc[row_indexer,col_indexer] = value instead\n",
      "\n",
      "See the caveats in the documentation: https://pandas.pydata.org/pandas-docs/stable/user_guide/indexing.html#returning-a-view-versus-a-copy\n",
      "  track_info_filt[\"lyrics\"] = track_info_filt[\"lyrics\"].replace(r\"\\d*Embed\\'*\\\"*$\", \"\", regex=True)\n"
     ]
    }
   ],
   "source": [
    "# removing the nEmbed or Embed at the end of the string\n",
    "track_info_filt[\"lyrics\"] = track_info_filt[\"lyrics\"].replace(r\"\\d*Embed\\'*\\\"*$\", \"\", regex=True)"
   ]
  },
  {
   "cell_type": "code",
   "execution_count": 109,
   "id": "c07e32bd-e8ec-46e7-ac36-90145d456f73",
   "metadata": {},
   "outputs": [
    {
     "data": {
      "text/plain": [
       "\"[Intro]\\n(Yo, imagine an album starting with this)\\n(Like a big breath, close your eyes and shit)\\n\\n[Verse 1]\\nI'm gonna move out of my loft\\nAnd into a limousine\\nSo I can drive you fuckin' crazy\\nAnd crash out where I sleep, yeah\\nJesus Christ won't text me back\\nI'll always be around, in fact\\nI'm climbin' up to your window now\\nRunnin' back to you at the speed of sound\\n\\n[Chorus]\\nIt's been a pleasure\\nIt's nice to meet you\\nIt's been a pleasure\\nIt's nice to meet you\\nIt's been a pleasure (So destroy my world, I'll tape the cracks)\\nIt's nice to meet you ('Cause what you give out's what you get back)\\nIt's been a pleasure (I'll stop the world, I'll tape the cracks)\\nIt's nice to meet you (What you give out's what you get back)\\n\\n[Verse 2]\\nMaybe I'm a soul-sucker\\nBut you're just a starfucker\\nI signed somebody's NDA\\nI'll go away, but LA's such a fuckin' weird place (One, two, three, four)\\nBet you wouldn't ask me to do that by this time next year\\nYou can't hide my face but save me for a rainy day, it don't go two ways (No)\\nI don't wanna be toxic, I just wanna be honest\\nBut this shit hits like a comet and it just hurts 'cause I want it\\nYeah, it just hurts 'cause I want it\\nYou might also like[Chorus]\\nIt's been a pleasure\\nIt's nice to meet you\\nIt's been a pleasure\\nIt's nice to meet you\\nIt's been a pleasure (So destroy my world, I'll tape the cracks)\\nIt's nice to meet you ('Cause what you give out's what you get back)\\nIt's been a pleasure (I'll stop the world, I'll tape the cracks)\\nIt's nice to meet you (What you give out's what you get back)\\n(That's the law of attract—)\\n\\n[Outro]\\nI'm saying picture that but, like, right before things go dark\""
      ]
     },
     "execution_count": 109,
     "metadata": {},
     "output_type": "execute_result"
    }
   ],
   "source": [
    "track_info_filt[\"lyrics\"][56]"
   ]
  },
  {
   "cell_type": "code",
   "execution_count": 110,
   "id": "33aea9c8-95f3-452b-a41f-c456d165b2c1",
   "metadata": {},
   "outputs": [
    {
     "data": {
      "text/plain": [
       "\"[Verse 1]\\nI'd like to know your middle name\\nLet's talk about your parents and your future dreams\\nI'm\\u2005interested\\u2005but distant to\\u2005a fault\\nAnd I'd never want to\\u2005complicate your heart\\n\\n[Pre-Chorus]\\nI've gotta let you know\\nThat I think that I love you so\\nYou could be my only one\\n'Cause I think that I love you so\\n\\n[Chorus]\\nI know we only just met\\nSo why do I feel invested?\\nDo you feel it too?\\nDo you feel it too?\\nI can be your best yet\\nFuture favorite regret\\nDo you feel it too?\\nDo you feel it too?\\n\\n[Post-Chorus]\\nSo I'll just tell my telephone\\nAll of the above when I'm alone\\nYou might also like[Verse 2]\\nI talk a lot, but we could fill your frames\\nWith pictures of our faces 'til we share a name\\nI'm living on a target and you shot it with an arrow\\nNow I lost my self-control, I can't stop thinking\\nAnd I'm thinking that I lost it\\nAll these aisles feel like miles\\nWhere you go, I'll follow\\n\\n[Chorus]\\nI know we only just met\\nSo why do I feel invested?\\nDo you feel it too?\\nDo you feel it too?\\nI can be your best yet\\nFuture favorite regret\\nDo you feel it too?\\nDo you feel it too?\\n\\n[Post-Chorus]\\nSo I'll just tell my telephone\\nAll of the above when I'm alone\\n\\n[Bridge]\\n(I've gotta let you know)\\n(That I think that I love you so)\\n(You could be my only one)\\n('Cause I think that I love you so)\\nI've gotta let you know\\nThat I think that I love you so\\nYou could be my only one\\nI’ve gotta let you know\\n[Chorus]\\nI know we only just met\\nSo why do I feel invested?\\nDo you feel it too?\\nDo you feel it too?\\nI can be your best yet\\nFuture favorite regret\\nDo you feel it too?\\nDo you feel it too?\\n\\n[Post-Chorus]\\nSo I'll just tell my telephone\\nAll of the above when I'm alone\\nSo I'll just tell my telephone\\nAll of the above when I'm alone\\n\\n[Outro]\\nHe's losing his mind\\nAnd I'm reaping all the benefits\""
      ]
     },
     "execution_count": 110,
     "metadata": {},
     "output_type": "execute_result"
    }
   ],
   "source": [
    "# prior to removing unicode\n",
    "track_info_filt[\"lyrics\"][21]"
   ]
  },
  {
   "cell_type": "code",
   "execution_count": 111,
   "id": "b5a18971-cb22-4d5c-b132-72b5a79e7f4a",
   "metadata": {},
   "outputs": [
    {
     "name": "stderr",
     "output_type": "stream",
     "text": [
      "/tmp/ipykernel_24467/1388096566.py:2: SettingWithCopyWarning: \n",
      "A value is trying to be set on a copy of a slice from a DataFrame.\n",
      "Try using .loc[row_indexer,col_indexer] = value instead\n",
      "\n",
      "See the caveats in the documentation: https://pandas.pydata.org/pandas-docs/stable/user_guide/indexing.html#returning-a-view-versus-a-copy\n",
      "  track_info_filt[\"lyrics\"] = track_info_filt[\"lyrics\"].replace(r\"\\u2005\", \" \", regex=True)\n"
     ]
    }
   ],
   "source": [
    "# remove unicode character \\u2005 and replace w space\n",
    "track_info_filt[\"lyrics\"] = track_info_filt[\"lyrics\"].replace(r\"\\u2005\", \" \", regex=True)"
   ]
  },
  {
   "cell_type": "code",
   "execution_count": 112,
   "id": "6c542312-d9aa-4bc9-973c-efb5f911c744",
   "metadata": {},
   "outputs": [
    {
     "data": {
      "text/plain": [
       "\"[Verse 1]\\nI'd like to know your middle name\\nLet's talk about your parents and your future dreams\\nI'm interested but distant to a fault\\nAnd I'd never want to complicate your heart\\n\\n[Pre-Chorus]\\nI've gotta let you know\\nThat I think that I love you so\\nYou could be my only one\\n'Cause I think that I love you so\\n\\n[Chorus]\\nI know we only just met\\nSo why do I feel invested?\\nDo you feel it too?\\nDo you feel it too?\\nI can be your best yet\\nFuture favorite regret\\nDo you feel it too?\\nDo you feel it too?\\n\\n[Post-Chorus]\\nSo I'll just tell my telephone\\nAll of the above when I'm alone\\nYou might also like[Verse 2]\\nI talk a lot, but we could fill your frames\\nWith pictures of our faces 'til we share a name\\nI'm living on a target and you shot it with an arrow\\nNow I lost my self-control, I can't stop thinking\\nAnd I'm thinking that I lost it\\nAll these aisles feel like miles\\nWhere you go, I'll follow\\n\\n[Chorus]\\nI know we only just met\\nSo why do I feel invested?\\nDo you feel it too?\\nDo you feel it too?\\nI can be your best yet\\nFuture favorite regret\\nDo you feel it too?\\nDo you feel it too?\\n\\n[Post-Chorus]\\nSo I'll just tell my telephone\\nAll of the above when I'm alone\\n\\n[Bridge]\\n(I've gotta let you know)\\n(That I think that I love you so)\\n(You could be my only one)\\n('Cause I think that I love you so)\\nI've gotta let you know\\nThat I think that I love you so\\nYou could be my only one\\nI’ve gotta let you know\\n[Chorus]\\nI know we only just met\\nSo why do I feel invested?\\nDo you feel it too?\\nDo you feel it too?\\nI can be your best yet\\nFuture favorite regret\\nDo you feel it too?\\nDo you feel it too?\\n\\n[Post-Chorus]\\nSo I'll just tell my telephone\\nAll of the above when I'm alone\\nSo I'll just tell my telephone\\nAll of the above when I'm alone\\n\\n[Outro]\\nHe's losing his mind\\nAnd I'm reaping all the benefits\""
      ]
     },
     "execution_count": 112,
     "metadata": {},
     "output_type": "execute_result"
    }
   ],
   "source": [
    "track_info_filt[\"lyrics\"][21]"
   ]
  },
  {
   "cell_type": "markdown",
   "id": "ced2219e-dcb2-45b7-9b3c-7ad17be0c367",
   "metadata": {},
   "source": [
    "Now, we will expand the string of lyrics for each song into individual lines (split by \\n), and we will also designate song sections to each line. "
   ]
  },
  {
   "cell_type": "code",
   "execution_count": 158,
   "id": "00d7e68c-ffa7-45ea-a4ca-51dfdfbf7c4f",
   "metadata": {},
   "outputs": [
    {
     "data": {
      "text/html": [
       "<div>\n",
       "<style scoped>\n",
       "    .dataframe tbody tr th:only-of-type {\n",
       "        vertical-align: middle;\n",
       "    }\n",
       "\n",
       "    .dataframe tbody tr th {\n",
       "        vertical-align: top;\n",
       "    }\n",
       "\n",
       "    .dataframe thead th {\n",
       "        text-align: right;\n",
       "    }\n",
       "</style>\n",
       "<table border=\"1\" class=\"dataframe\">\n",
       "  <thead>\n",
       "    <tr style=\"text-align: right;\">\n",
       "      <th></th>\n",
       "      <th>song_title</th>\n",
       "      <th>artist</th>\n",
       "      <th>release_date</th>\n",
       "      <th>lyrics</th>\n",
       "    </tr>\n",
       "  </thead>\n",
       "  <tbody>\n",
       "    <tr>\n",
       "      <th>0</th>\n",
       "      <td>Turbulent</td>\n",
       "      <td>Waterparks</td>\n",
       "      <td>2019-05-23</td>\n",
       "      <td>[Verse 1]\\nYou had your own Pete Wentz and Pat...</td>\n",
       "    </tr>\n",
       "    <tr>\n",
       "      <th>1</th>\n",
       "      <td>I Miss Having Sex But at Least I Don't Wanna D...</td>\n",
       "      <td>Waterparks</td>\n",
       "      <td>2019-10-11</td>\n",
       "      <td>[Verse 1]\\nI'm sick of all this, \"How'd you ge...</td>\n",
       "    </tr>\n",
       "    <tr>\n",
       "      <th>2</th>\n",
       "      <td>Stupid for You</td>\n",
       "      <td>Waterparks</td>\n",
       "      <td>2016-08-31</td>\n",
       "      <td>[Chorus]\\nHey, tell me what you want me to say...</td>\n",
       "    </tr>\n",
       "    <tr>\n",
       "      <th>3</th>\n",
       "      <td>TANTRUM</td>\n",
       "      <td>Waterparks</td>\n",
       "      <td>2018-01-26</td>\n",
       "      <td>[Intro]\\nFuck these fuckboy bands that can't t...</td>\n",
       "    </tr>\n",
       "    <tr>\n",
       "      <th>4</th>\n",
       "      <td>21 Questions</td>\n",
       "      <td>Waterparks</td>\n",
       "      <td>2016-11-04</td>\n",
       "      <td>[Verse 1]\\nI wish there was a situation to be ...</td>\n",
       "    </tr>\n",
       "    <tr>\n",
       "      <th>...</th>\n",
       "      <td>...</td>\n",
       "      <td>...</td>\n",
       "      <td>...</td>\n",
       "      <td>...</td>\n",
       "    </tr>\n",
       "    <tr>\n",
       "      <th>93</th>\n",
       "      <td>Bones of '92</td>\n",
       "      <td>Waterparks</td>\n",
       "      <td>2012-04-03</td>\n",
       "      <td>[Chorus]\\nSimple steps are all it takes\\nBut s...</td>\n",
       "    </tr>\n",
       "    <tr>\n",
       "      <th>94</th>\n",
       "      <td>New Wave</td>\n",
       "      <td>Waterparks</td>\n",
       "      <td>2014-06-04</td>\n",
       "      <td>[Verse 1]\\nCall it new wave\\nSay it like you s...</td>\n",
       "    </tr>\n",
       "    <tr>\n",
       "      <th>96</th>\n",
       "      <td>WHY CAN'T I?</td>\n",
       "      <td>Waterparks</td>\n",
       "      <td>2023-04-14</td>\n",
       "      <td>[Verse 1]\\n\"Get a load of me?\" Get a load of y...</td>\n",
       "    </tr>\n",
       "    <tr>\n",
       "      <th>99</th>\n",
       "      <td>LIFE IS PUKE (20,000) (1995 DEMO)</td>\n",
       "      <td>Waterparks</td>\n",
       "      <td>2020-01-22</td>\n",
       "      <td>[Spoken]\\nOkay, so, you guys are assholes\\nI d...</td>\n",
       "    </tr>\n",
       "    <tr>\n",
       "      <th>100</th>\n",
       "      <td>Beating Heart Baby</td>\n",
       "      <td>Waterparks</td>\n",
       "      <td>None</td>\n",
       "      <td>[Intro]\\nBaby, is this love for real?\\nLet me ...</td>\n",
       "    </tr>\n",
       "  </tbody>\n",
       "</table>\n",
       "<p>96 rows × 4 columns</p>\n",
       "</div>"
      ],
      "text/plain": [
       "                                            song_title      artist  \\\n",
       "0                                            Turbulent  Waterparks   \n",
       "1    I Miss Having Sex But at Least I Don't Wanna D...  Waterparks   \n",
       "2                                       Stupid for You  Waterparks   \n",
       "3                                              TANTRUM  Waterparks   \n",
       "4                                         21 Questions  Waterparks   \n",
       "..                                                 ...         ...   \n",
       "93                                        Bones of '92  Waterparks   \n",
       "94                                            New Wave  Waterparks   \n",
       "96                                        WHY CAN'T I?  Waterparks   \n",
       "99                   LIFE IS PUKE (20,000) (1995 DEMO)  Waterparks   \n",
       "100                                 Beating Heart Baby  Waterparks   \n",
       "\n",
       "    release_date                                             lyrics  \n",
       "0     2019-05-23  [Verse 1]\\nYou had your own Pete Wentz and Pat...  \n",
       "1     2019-10-11  [Verse 1]\\nI'm sick of all this, \"How'd you ge...  \n",
       "2     2016-08-31  [Chorus]\\nHey, tell me what you want me to say...  \n",
       "3     2018-01-26  [Intro]\\nFuck these fuckboy bands that can't t...  \n",
       "4     2016-11-04  [Verse 1]\\nI wish there was a situation to be ...  \n",
       "..           ...                                                ...  \n",
       "93    2012-04-03  [Chorus]\\nSimple steps are all it takes\\nBut s...  \n",
       "94    2014-06-04  [Verse 1]\\nCall it new wave\\nSay it like you s...  \n",
       "96    2023-04-14  [Verse 1]\\n\"Get a load of me?\" Get a load of y...  \n",
       "99    2020-01-22  [Spoken]\\nOkay, so, you guys are assholes\\nI d...  \n",
       "100         None  [Intro]\\nBaby, is this love for real?\\nLet me ...  \n",
       "\n",
       "[96 rows x 4 columns]"
      ]
     },
     "execution_count": 158,
     "metadata": {},
     "output_type": "execute_result"
    }
   ],
   "source": [
    "track_info_filt"
   ]
  },
  {
   "cell_type": "code",
   "execution_count": 234,
   "id": "cc960f6d-a383-486f-b5ef-c24eb0a48d6b",
   "metadata": {},
   "outputs": [],
   "source": [
    "# takes in a row of the df (representing a single song) and splits it into several rows using section\n",
    "def split_by_section(song_title, artist, lyrics): \n",
    "    newstr = lyrics\n",
    "    sections = []\n",
    "    while True: \n",
    "        try: \n",
    "            # find the section label, e.g. [Verse 1]\n",
    "            match = re.search(r\"\\[.*?\\]\", newstr)\n",
    "            section = match.group(0)\n",
    "            # split the entire string based on that label (one split only)\n",
    "            newstr = newstr.split(section, 1)[1]\n",
    "\n",
    "            # find the next section\n",
    "            next_match = re.search(r\"\\[.*?\\]\", newstr)\n",
    "            # if there is no match, next_match will be None\n",
    "            if next_match:\n",
    "                section_lyrics = newstr.split(next_match.group(0), 1)[0]\n",
    "            else:\n",
    "                section_lyrics = newstr\n",
    "\n",
    "            sections.append({\n",
    "                'song_title': song_title,\n",
    "                'artist': artist,\n",
    "                'section': section,\n",
    "                'section_lyrics': section_lyrics\n",
    "            })\n",
    "        except AttributeError:\n",
    "            break\n",
    "    \n",
    "    return sections"
   ]
  },
  {
   "cell_type": "code",
   "execution_count": 235,
   "id": "1a70b174-756e-4756-9244-0a42da253d6a",
   "metadata": {},
   "outputs": [],
   "source": [
    "all_sections = []\n",
    "for index, row in track_info_filt.iterrows():\n",
    "    song_sections = split_by_section(row['song_title'], row[\"artist\"], row[\"lyrics\"])\n",
    "    all_sections.append(song_sections)"
   ]
  },
  {
   "cell_type": "code",
   "execution_count": 238,
   "id": "ddf83413-1193-49e9-bf48-73b2549e6fd9",
   "metadata": {},
   "outputs": [
    {
     "data": {
      "text/html": [
       "<div>\n",
       "<style scoped>\n",
       "    .dataframe tbody tr th:only-of-type {\n",
       "        vertical-align: middle;\n",
       "    }\n",
       "\n",
       "    .dataframe tbody tr th {\n",
       "        vertical-align: top;\n",
       "    }\n",
       "\n",
       "    .dataframe thead th {\n",
       "        text-align: right;\n",
       "    }\n",
       "</style>\n",
       "<table border=\"1\" class=\"dataframe\">\n",
       "  <thead>\n",
       "    <tr style=\"text-align: right;\">\n",
       "      <th></th>\n",
       "      <th>song_title</th>\n",
       "      <th>artist</th>\n",
       "      <th>section</th>\n",
       "      <th>section_lyrics</th>\n",
       "    </tr>\n",
       "  </thead>\n",
       "  <tbody>\n",
       "    <tr>\n",
       "      <th>0</th>\n",
       "      <td>Turbulent</td>\n",
       "      <td>Waterparks</td>\n",
       "      <td>[Verse 1]</td>\n",
       "      <td>\\nYou had your own Pete Wentz and Patrick comb...</td>\n",
       "    </tr>\n",
       "    <tr>\n",
       "      <th>1</th>\n",
       "      <td>Turbulent</td>\n",
       "      <td>Waterparks</td>\n",
       "      <td>[Pre-Chorus]</td>\n",
       "      <td>\\nSo fuck yourself and fuck your feelings\\nI b...</td>\n",
       "    </tr>\n",
       "    <tr>\n",
       "      <th>2</th>\n",
       "      <td>Turbulent</td>\n",
       "      <td>Waterparks</td>\n",
       "      <td>[Chorus]</td>\n",
       "      <td>\\nI'd unfuck you if I could, ooh, ooh, ooh\\nI'...</td>\n",
       "    </tr>\n",
       "    <tr>\n",
       "      <th>3</th>\n",
       "      <td>Turbulent</td>\n",
       "      <td>Waterparks</td>\n",
       "      <td>[Verse 2]</td>\n",
       "      <td>\\nYou had your own Awsten Knight (Hi)\\nHe text...</td>\n",
       "    </tr>\n",
       "    <tr>\n",
       "      <th>4</th>\n",
       "      <td>Turbulent</td>\n",
       "      <td>Waterparks</td>\n",
       "      <td>[Pre-Chorus]</td>\n",
       "      <td>\\nSo fuck yourself and fuck your feelings\\nI b...</td>\n",
       "    </tr>\n",
       "    <tr>\n",
       "      <th>...</th>\n",
       "      <td>...</td>\n",
       "      <td>...</td>\n",
       "      <td>...</td>\n",
       "      <td>...</td>\n",
       "    </tr>\n",
       "    <tr>\n",
       "      <th>743</th>\n",
       "      <td>Beating Heart Baby</td>\n",
       "      <td>Waterparks</td>\n",
       "      <td>[Intro]</td>\n",
       "      <td>\\nBaby, is this love for real?\\nLet me in your...</td>\n",
       "    </tr>\n",
       "    <tr>\n",
       "      <th>744</th>\n",
       "      <td>Beating Heart Baby</td>\n",
       "      <td>Waterparks</td>\n",
       "      <td>[Verse 1]</td>\n",
       "      <td>\\nYou, you want nothing to do with me\\nCause y...</td>\n",
       "    </tr>\n",
       "    <tr>\n",
       "      <th>745</th>\n",
       "      <td>Beating Heart Baby</td>\n",
       "      <td>Waterparks</td>\n",
       "      <td>[Chorus]</td>\n",
       "      <td>\\nBaby is this love for real?\\nLet me in your ...</td>\n",
       "    </tr>\n",
       "    <tr>\n",
       "      <th>746</th>\n",
       "      <td>Beating Heart Baby</td>\n",
       "      <td>Waterparks</td>\n",
       "      <td>[Verse 2]</td>\n",
       "      <td>\\nGirl, you really got your hold on me\\nCause ...</td>\n",
       "    </tr>\n",
       "    <tr>\n",
       "      <th>747</th>\n",
       "      <td>Beating Heart Baby</td>\n",
       "      <td>Waterparks</td>\n",
       "      <td>[Chorus]</td>\n",
       "      <td>\\nBaby is this love for real?\\nLet me in your ...</td>\n",
       "    </tr>\n",
       "  </tbody>\n",
       "</table>\n",
       "<p>748 rows × 4 columns</p>\n",
       "</div>"
      ],
      "text/plain": [
       "             song_title      artist       section  \\\n",
       "0             Turbulent  Waterparks     [Verse 1]   \n",
       "1             Turbulent  Waterparks  [Pre-Chorus]   \n",
       "2             Turbulent  Waterparks      [Chorus]   \n",
       "3             Turbulent  Waterparks     [Verse 2]   \n",
       "4             Turbulent  Waterparks  [Pre-Chorus]   \n",
       "..                  ...         ...           ...   \n",
       "743  Beating Heart Baby  Waterparks       [Intro]   \n",
       "744  Beating Heart Baby  Waterparks     [Verse 1]   \n",
       "745  Beating Heart Baby  Waterparks      [Chorus]   \n",
       "746  Beating Heart Baby  Waterparks     [Verse 2]   \n",
       "747  Beating Heart Baby  Waterparks      [Chorus]   \n",
       "\n",
       "                                        section_lyrics  \n",
       "0    \\nYou had your own Pete Wentz and Patrick comb...  \n",
       "1    \\nSo fuck yourself and fuck your feelings\\nI b...  \n",
       "2    \\nI'd unfuck you if I could, ooh, ooh, ooh\\nI'...  \n",
       "3    \\nYou had your own Awsten Knight (Hi)\\nHe text...  \n",
       "4    \\nSo fuck yourself and fuck your feelings\\nI b...  \n",
       "..                                                 ...  \n",
       "743  \\nBaby, is this love for real?\\nLet me in your...  \n",
       "744  \\nYou, you want nothing to do with me\\nCause y...  \n",
       "745  \\nBaby is this love for real?\\nLet me in your ...  \n",
       "746  \\nGirl, you really got your hold on me\\nCause ...  \n",
       "747  \\nBaby is this love for real?\\nLet me in your ...  \n",
       "\n",
       "[748 rows x 4 columns]"
      ]
     },
     "execution_count": 238,
     "metadata": {},
     "output_type": "execute_result"
    }
   ],
   "source": [
    "all_sections_flat = [x for xs in all_sections for x in xs]\n",
    "lyrics_sections_df = pd.DataFrame(all_sections_flat)\n",
    "lyrics_sections_df"
   ]
  },
  {
   "cell_type": "code",
   "execution_count": 239,
   "id": "c391d559-6796-4259-9363-178bf6494892",
   "metadata": {},
   "outputs": [],
   "source": [
    "lyrics_sections_df.to_csv(\"Lyrics_sections.csv\", index=False)"
   ]
  },
  {
   "cell_type": "code",
   "execution_count": 240,
   "id": "85ad77c8-e012-49b4-994e-b15c7c47e78c",
   "metadata": {},
   "outputs": [
    {
     "data": {
      "text/plain": [
       "'\\nYou had your own Pete Wentz and Patrick combined\\nWriting you songs and singing them all like\\nEvery single day\\nTour brings that special pain\\n\\n'"
      ]
     },
     "execution_count": 240,
     "metadata": {},
     "output_type": "execute_result"
    }
   ],
   "source": [
    "lyrics_sections_df[\"section_lyrics\"].loc[0]"
   ]
  },
  {
   "cell_type": "code",
   "execution_count": 241,
   "id": "bdb61afa-4069-4231-ac80-c77566965c4d",
   "metadata": {},
   "outputs": [],
   "source": [
    "full_lyrics = lyrics_sections_df.assign(lyrics=lyrics_sections_df[\"section_lyrics\"].str.split(\"\\n\")).explode(\"lyrics\").drop(columns=[\"section_lyrics\"])"
   ]
  },
  {
   "cell_type": "code",
   "execution_count": 242,
   "id": "e68a12b5-5104-498c-8db4-01f70ecc34fc",
   "metadata": {},
   "outputs": [
    {
     "data": {
      "text/html": [
       "<div>\n",
       "<style scoped>\n",
       "    .dataframe tbody tr th:only-of-type {\n",
       "        vertical-align: middle;\n",
       "    }\n",
       "\n",
       "    .dataframe tbody tr th {\n",
       "        vertical-align: top;\n",
       "    }\n",
       "\n",
       "    .dataframe thead th {\n",
       "        text-align: right;\n",
       "    }\n",
       "</style>\n",
       "<table border=\"1\" class=\"dataframe\">\n",
       "  <thead>\n",
       "    <tr style=\"text-align: right;\">\n",
       "      <th></th>\n",
       "      <th>song_title</th>\n",
       "      <th>artist</th>\n",
       "      <th>section</th>\n",
       "      <th>lyrics</th>\n",
       "    </tr>\n",
       "  </thead>\n",
       "  <tbody>\n",
       "    <tr>\n",
       "      <th>0</th>\n",
       "      <td>Turbulent</td>\n",
       "      <td>Waterparks</td>\n",
       "      <td>[Verse 1]</td>\n",
       "      <td></td>\n",
       "    </tr>\n",
       "    <tr>\n",
       "      <th>0</th>\n",
       "      <td>Turbulent</td>\n",
       "      <td>Waterparks</td>\n",
       "      <td>[Verse 1]</td>\n",
       "      <td>You had your own Pete Wentz and Patrick combined</td>\n",
       "    </tr>\n",
       "    <tr>\n",
       "      <th>0</th>\n",
       "      <td>Turbulent</td>\n",
       "      <td>Waterparks</td>\n",
       "      <td>[Verse 1]</td>\n",
       "      <td>Writing you songs and singing them all like</td>\n",
       "    </tr>\n",
       "    <tr>\n",
       "      <th>0</th>\n",
       "      <td>Turbulent</td>\n",
       "      <td>Waterparks</td>\n",
       "      <td>[Verse 1]</td>\n",
       "      <td>Every single day</td>\n",
       "    </tr>\n",
       "    <tr>\n",
       "      <th>0</th>\n",
       "      <td>Turbulent</td>\n",
       "      <td>Waterparks</td>\n",
       "      <td>[Verse 1]</td>\n",
       "      <td>Tour brings that special pain</td>\n",
       "    </tr>\n",
       "    <tr>\n",
       "      <th>...</th>\n",
       "      <td>...</td>\n",
       "      <td>...</td>\n",
       "      <td>...</td>\n",
       "      <td>...</td>\n",
       "    </tr>\n",
       "    <tr>\n",
       "      <th>747</th>\n",
       "      <td>Beating Heart Baby</td>\n",
       "      <td>Waterparks</td>\n",
       "      <td>[Chorus]</td>\n",
       "      <td>Your beating heart, baby, baby</td>\n",
       "    </tr>\n",
       "    <tr>\n",
       "      <th>747</th>\n",
       "      <td>Beating Heart Baby</td>\n",
       "      <td>Waterparks</td>\n",
       "      <td>[Chorus]</td>\n",
       "      <td>So baby is this love for real?</td>\n",
       "    </tr>\n",
       "    <tr>\n",
       "      <th>747</th>\n",
       "      <td>Beating Heart Baby</td>\n",
       "      <td>Waterparks</td>\n",
       "      <td>[Chorus]</td>\n",
       "      <td>Let me in your arms to feel, woah</td>\n",
       "    </tr>\n",
       "    <tr>\n",
       "      <th>747</th>\n",
       "      <td>Beating Heart Baby</td>\n",
       "      <td>Waterparks</td>\n",
       "      <td>[Chorus]</td>\n",
       "      <td>Your beating heart, baby</td>\n",
       "    </tr>\n",
       "    <tr>\n",
       "      <th>747</th>\n",
       "      <td>Beating Heart Baby</td>\n",
       "      <td>Waterparks</td>\n",
       "      <td>[Chorus]</td>\n",
       "      <td>Your beating heart, baby, noYou might also like</td>\n",
       "    </tr>\n",
       "  </tbody>\n",
       "</table>\n",
       "<p>6998 rows × 4 columns</p>\n",
       "</div>"
      ],
      "text/plain": [
       "             song_title      artist    section  \\\n",
       "0             Turbulent  Waterparks  [Verse 1]   \n",
       "0             Turbulent  Waterparks  [Verse 1]   \n",
       "0             Turbulent  Waterparks  [Verse 1]   \n",
       "0             Turbulent  Waterparks  [Verse 1]   \n",
       "0             Turbulent  Waterparks  [Verse 1]   \n",
       "..                  ...         ...        ...   \n",
       "747  Beating Heart Baby  Waterparks   [Chorus]   \n",
       "747  Beating Heart Baby  Waterparks   [Chorus]   \n",
       "747  Beating Heart Baby  Waterparks   [Chorus]   \n",
       "747  Beating Heart Baby  Waterparks   [Chorus]   \n",
       "747  Beating Heart Baby  Waterparks   [Chorus]   \n",
       "\n",
       "                                               lyrics  \n",
       "0                                                      \n",
       "0    You had your own Pete Wentz and Patrick combined  \n",
       "0         Writing you songs and singing them all like  \n",
       "0                                    Every single day  \n",
       "0                       Tour brings that special pain  \n",
       "..                                                ...  \n",
       "747                    Your beating heart, baby, baby  \n",
       "747                    So baby is this love for real?  \n",
       "747                 Let me in your arms to feel, woah  \n",
       "747                          Your beating heart, baby  \n",
       "747   Your beating heart, baby, noYou might also like  \n",
       "\n",
       "[6998 rows x 4 columns]"
      ]
     },
     "execution_count": 242,
     "metadata": {},
     "output_type": "execute_result"
    }
   ],
   "source": [
    "full_lyrics"
   ]
  },
  {
   "cell_type": "code",
   "execution_count": 244,
   "id": "92bc6513-92cd-433d-b938-98bba30e043c",
   "metadata": {},
   "outputs": [],
   "source": [
    "full_lyrics = full_lyrics[[\"song_title\", \"artist\", \"section\", \"lyrics\"]]"
   ]
  },
  {
   "cell_type": "code",
   "execution_count": 248,
   "id": "64136fe5-71bd-4d80-9217-b7004b258306",
   "metadata": {},
   "outputs": [],
   "source": [
    "full_lyrics = full_lyrics[full_lyrics['lyrics'].str.strip() != '']"
   ]
  },
  {
   "cell_type": "code",
   "execution_count": 249,
   "id": "6bd64a95-0f4e-444d-93b3-5ea71523a671",
   "metadata": {},
   "outputs": [
    {
     "data": {
      "text/html": [
       "<div>\n",
       "<style scoped>\n",
       "    .dataframe tbody tr th:only-of-type {\n",
       "        vertical-align: middle;\n",
       "    }\n",
       "\n",
       "    .dataframe tbody tr th {\n",
       "        vertical-align: top;\n",
       "    }\n",
       "\n",
       "    .dataframe thead th {\n",
       "        text-align: right;\n",
       "    }\n",
       "</style>\n",
       "<table border=\"1\" class=\"dataframe\">\n",
       "  <thead>\n",
       "    <tr style=\"text-align: right;\">\n",
       "      <th></th>\n",
       "      <th>song_title</th>\n",
       "      <th>artist</th>\n",
       "      <th>section</th>\n",
       "      <th>lyrics</th>\n",
       "    </tr>\n",
       "  </thead>\n",
       "  <tbody>\n",
       "    <tr>\n",
       "      <th>1</th>\n",
       "      <td>Turbulent</td>\n",
       "      <td>Waterparks</td>\n",
       "      <td>[Verse 1]</td>\n",
       "      <td>You had your own Pete Wentz and Patrick combined</td>\n",
       "    </tr>\n",
       "    <tr>\n",
       "      <th>2</th>\n",
       "      <td>Turbulent</td>\n",
       "      <td>Waterparks</td>\n",
       "      <td>[Verse 1]</td>\n",
       "      <td>Writing you songs and singing them all like</td>\n",
       "    </tr>\n",
       "    <tr>\n",
       "      <th>3</th>\n",
       "      <td>Turbulent</td>\n",
       "      <td>Waterparks</td>\n",
       "      <td>[Verse 1]</td>\n",
       "      <td>Every single day</td>\n",
       "    </tr>\n",
       "    <tr>\n",
       "      <th>4</th>\n",
       "      <td>Turbulent</td>\n",
       "      <td>Waterparks</td>\n",
       "      <td>[Verse 1]</td>\n",
       "      <td>Tour brings that special pain</td>\n",
       "    </tr>\n",
       "    <tr>\n",
       "      <th>8</th>\n",
       "      <td>Turbulent</td>\n",
       "      <td>Waterparks</td>\n",
       "      <td>[Pre-Chorus]</td>\n",
       "      <td>So fuck yourself and fuck your feelings</td>\n",
       "    </tr>\n",
       "    <tr>\n",
       "      <th>...</th>\n",
       "      <td>...</td>\n",
       "      <td>...</td>\n",
       "      <td>...</td>\n",
       "      <td>...</td>\n",
       "    </tr>\n",
       "    <tr>\n",
       "      <th>6993</th>\n",
       "      <td>Beating Heart Baby</td>\n",
       "      <td>Waterparks</td>\n",
       "      <td>[Chorus]</td>\n",
       "      <td>Your beating heart, baby, baby</td>\n",
       "    </tr>\n",
       "    <tr>\n",
       "      <th>6994</th>\n",
       "      <td>Beating Heart Baby</td>\n",
       "      <td>Waterparks</td>\n",
       "      <td>[Chorus]</td>\n",
       "      <td>So baby is this love for real?</td>\n",
       "    </tr>\n",
       "    <tr>\n",
       "      <th>6995</th>\n",
       "      <td>Beating Heart Baby</td>\n",
       "      <td>Waterparks</td>\n",
       "      <td>[Chorus]</td>\n",
       "      <td>Let me in your arms to feel, woah</td>\n",
       "    </tr>\n",
       "    <tr>\n",
       "      <th>6996</th>\n",
       "      <td>Beating Heart Baby</td>\n",
       "      <td>Waterparks</td>\n",
       "      <td>[Chorus]</td>\n",
       "      <td>Your beating heart, baby</td>\n",
       "    </tr>\n",
       "    <tr>\n",
       "      <th>6997</th>\n",
       "      <td>Beating Heart Baby</td>\n",
       "      <td>Waterparks</td>\n",
       "      <td>[Chorus]</td>\n",
       "      <td>Your beating heart, baby, noYou might also like</td>\n",
       "    </tr>\n",
       "  </tbody>\n",
       "</table>\n",
       "<p>5162 rows × 4 columns</p>\n",
       "</div>"
      ],
      "text/plain": [
       "              song_title      artist       section  \\\n",
       "1              Turbulent  Waterparks     [Verse 1]   \n",
       "2              Turbulent  Waterparks     [Verse 1]   \n",
       "3              Turbulent  Waterparks     [Verse 1]   \n",
       "4              Turbulent  Waterparks     [Verse 1]   \n",
       "8              Turbulent  Waterparks  [Pre-Chorus]   \n",
       "...                  ...         ...           ...   \n",
       "6993  Beating Heart Baby  Waterparks      [Chorus]   \n",
       "6994  Beating Heart Baby  Waterparks      [Chorus]   \n",
       "6995  Beating Heart Baby  Waterparks      [Chorus]   \n",
       "6996  Beating Heart Baby  Waterparks      [Chorus]   \n",
       "6997  Beating Heart Baby  Waterparks      [Chorus]   \n",
       "\n",
       "                                                lyrics  \n",
       "1     You had your own Pete Wentz and Patrick combined  \n",
       "2          Writing you songs and singing them all like  \n",
       "3                                     Every single day  \n",
       "4                        Tour brings that special pain  \n",
       "8              So fuck yourself and fuck your feelings  \n",
       "...                                                ...  \n",
       "6993                    Your beating heart, baby, baby  \n",
       "6994                    So baby is this love for real?  \n",
       "6995                 Let me in your arms to feel, woah  \n",
       "6996                          Your beating heart, baby  \n",
       "6997   Your beating heart, baby, noYou might also like  \n",
       "\n",
       "[5162 rows x 4 columns]"
      ]
     },
     "execution_count": 249,
     "metadata": {},
     "output_type": "execute_result"
    }
   ],
   "source": [
    "full_lyrics"
   ]
  },
  {
   "cell_type": "code",
   "execution_count": 253,
   "id": "d2e36fa1-421b-4a04-9798-1f919a625687",
   "metadata": {},
   "outputs": [
    {
     "name": "stderr",
     "output_type": "stream",
     "text": [
      "/tmp/ipykernel_24467/3806218361.py:1: SettingWithCopyWarning: \n",
      "A value is trying to be set on a copy of a slice from a DataFrame.\n",
      "Try using .loc[row_indexer,col_indexer] = value instead\n",
      "\n",
      "See the caveats in the documentation: https://pandas.pydata.org/pandas-docs/stable/user_guide/indexing.html#returning-a-view-versus-a-copy\n",
      "  full_lyrics['section'] = full_lyrics['section'].str.strip('[]')\n"
     ]
    }
   ],
   "source": [
    "full_lyrics['section'] = full_lyrics['section'].str.strip('[]')"
   ]
  },
  {
   "cell_type": "code",
   "execution_count": 254,
   "id": "66cbc380-6ee9-467c-876e-2ddea4aa139b",
   "metadata": {},
   "outputs": [
    {
     "data": {
      "text/html": [
       "<div>\n",
       "<style scoped>\n",
       "    .dataframe tbody tr th:only-of-type {\n",
       "        vertical-align: middle;\n",
       "    }\n",
       "\n",
       "    .dataframe tbody tr th {\n",
       "        vertical-align: top;\n",
       "    }\n",
       "\n",
       "    .dataframe thead th {\n",
       "        text-align: right;\n",
       "    }\n",
       "</style>\n",
       "<table border=\"1\" class=\"dataframe\">\n",
       "  <thead>\n",
       "    <tr style=\"text-align: right;\">\n",
       "      <th></th>\n",
       "      <th>song_title</th>\n",
       "      <th>artist</th>\n",
       "      <th>section</th>\n",
       "      <th>lyrics</th>\n",
       "    </tr>\n",
       "  </thead>\n",
       "  <tbody>\n",
       "    <tr>\n",
       "      <th>1</th>\n",
       "      <td>Turbulent</td>\n",
       "      <td>Waterparks</td>\n",
       "      <td>Verse 1</td>\n",
       "      <td>You had your own Pete Wentz and Patrick combined</td>\n",
       "    </tr>\n",
       "    <tr>\n",
       "      <th>2</th>\n",
       "      <td>Turbulent</td>\n",
       "      <td>Waterparks</td>\n",
       "      <td>Verse 1</td>\n",
       "      <td>Writing you songs and singing them all like</td>\n",
       "    </tr>\n",
       "    <tr>\n",
       "      <th>3</th>\n",
       "      <td>Turbulent</td>\n",
       "      <td>Waterparks</td>\n",
       "      <td>Verse 1</td>\n",
       "      <td>Every single day</td>\n",
       "    </tr>\n",
       "    <tr>\n",
       "      <th>4</th>\n",
       "      <td>Turbulent</td>\n",
       "      <td>Waterparks</td>\n",
       "      <td>Verse 1</td>\n",
       "      <td>Tour brings that special pain</td>\n",
       "    </tr>\n",
       "    <tr>\n",
       "      <th>8</th>\n",
       "      <td>Turbulent</td>\n",
       "      <td>Waterparks</td>\n",
       "      <td>Pre-Chorus</td>\n",
       "      <td>So fuck yourself and fuck your feelings</td>\n",
       "    </tr>\n",
       "    <tr>\n",
       "      <th>...</th>\n",
       "      <td>...</td>\n",
       "      <td>...</td>\n",
       "      <td>...</td>\n",
       "      <td>...</td>\n",
       "    </tr>\n",
       "    <tr>\n",
       "      <th>6993</th>\n",
       "      <td>Beating Heart Baby</td>\n",
       "      <td>Waterparks</td>\n",
       "      <td>Chorus</td>\n",
       "      <td>Your beating heart, baby, baby</td>\n",
       "    </tr>\n",
       "    <tr>\n",
       "      <th>6994</th>\n",
       "      <td>Beating Heart Baby</td>\n",
       "      <td>Waterparks</td>\n",
       "      <td>Chorus</td>\n",
       "      <td>So baby is this love for real?</td>\n",
       "    </tr>\n",
       "    <tr>\n",
       "      <th>6995</th>\n",
       "      <td>Beating Heart Baby</td>\n",
       "      <td>Waterparks</td>\n",
       "      <td>Chorus</td>\n",
       "      <td>Let me in your arms to feel, woah</td>\n",
       "    </tr>\n",
       "    <tr>\n",
       "      <th>6996</th>\n",
       "      <td>Beating Heart Baby</td>\n",
       "      <td>Waterparks</td>\n",
       "      <td>Chorus</td>\n",
       "      <td>Your beating heart, baby</td>\n",
       "    </tr>\n",
       "    <tr>\n",
       "      <th>6997</th>\n",
       "      <td>Beating Heart Baby</td>\n",
       "      <td>Waterparks</td>\n",
       "      <td>Chorus</td>\n",
       "      <td>Your beating heart, baby, noYou might also like</td>\n",
       "    </tr>\n",
       "  </tbody>\n",
       "</table>\n",
       "<p>5162 rows × 4 columns</p>\n",
       "</div>"
      ],
      "text/plain": [
       "              song_title      artist     section  \\\n",
       "1              Turbulent  Waterparks     Verse 1   \n",
       "2              Turbulent  Waterparks     Verse 1   \n",
       "3              Turbulent  Waterparks     Verse 1   \n",
       "4              Turbulent  Waterparks     Verse 1   \n",
       "8              Turbulent  Waterparks  Pre-Chorus   \n",
       "...                  ...         ...         ...   \n",
       "6993  Beating Heart Baby  Waterparks      Chorus   \n",
       "6994  Beating Heart Baby  Waterparks      Chorus   \n",
       "6995  Beating Heart Baby  Waterparks      Chorus   \n",
       "6996  Beating Heart Baby  Waterparks      Chorus   \n",
       "6997  Beating Heart Baby  Waterparks      Chorus   \n",
       "\n",
       "                                                lyrics  \n",
       "1     You had your own Pete Wentz and Patrick combined  \n",
       "2          Writing you songs and singing them all like  \n",
       "3                                     Every single day  \n",
       "4                        Tour brings that special pain  \n",
       "8              So fuck yourself and fuck your feelings  \n",
       "...                                                ...  \n",
       "6993                    Your beating heart, baby, baby  \n",
       "6994                    So baby is this love for real?  \n",
       "6995                 Let me in your arms to feel, woah  \n",
       "6996                          Your beating heart, baby  \n",
       "6997   Your beating heart, baby, noYou might also like  \n",
       "\n",
       "[5162 rows x 4 columns]"
      ]
     },
     "execution_count": 254,
     "metadata": {},
     "output_type": "execute_result"
    }
   ],
   "source": [
    "full_lyrics"
   ]
  },
  {
   "cell_type": "code",
   "execution_count": 255,
   "id": "ca0b8330-38e2-4f20-8720-125d8aeebb5b",
   "metadata": {},
   "outputs": [],
   "source": [
    "full_lyrics.to_csv(\"full_lyrics.csv\", index=False)"
   ]
  },
  {
   "cell_type": "markdown",
   "id": "7ac09682-4537-4b01-83a1-e0401441bedf",
   "metadata": {},
   "source": [
    "I manually added the albums to each song."
   ]
  },
  {
   "cell_type": "code",
   "execution_count": 268,
   "id": "701e8db2-ab64-4050-b137-373d2114933b",
   "metadata": {},
   "outputs": [
    {
     "data": {
      "text/html": [
       "<div>\n",
       "<style scoped>\n",
       "    .dataframe tbody tr th:only-of-type {\n",
       "        vertical-align: middle;\n",
       "    }\n",
       "\n",
       "    .dataframe tbody tr th {\n",
       "        vertical-align: top;\n",
       "    }\n",
       "\n",
       "    .dataframe thead th {\n",
       "        text-align: right;\n",
       "    }\n",
       "</style>\n",
       "<table border=\"1\" class=\"dataframe\">\n",
       "  <thead>\n",
       "    <tr style=\"text-align: right;\">\n",
       "      <th></th>\n",
       "      <th>song_title</th>\n",
       "      <th>artist</th>\n",
       "      <th>section</th>\n",
       "      <th>lyrics</th>\n",
       "      <th>album</th>\n",
       "    </tr>\n",
       "  </thead>\n",
       "  <tbody>\n",
       "    <tr>\n",
       "      <th>0</th>\n",
       "      <td>Turbulent</td>\n",
       "      <td>Waterparks</td>\n",
       "      <td>Verse 1</td>\n",
       "      <td>You had your own Pete Wentz and Patrick combined</td>\n",
       "      <td>FANDOM</td>\n",
       "    </tr>\n",
       "    <tr>\n",
       "      <th>1</th>\n",
       "      <td>Turbulent</td>\n",
       "      <td>Waterparks</td>\n",
       "      <td>Verse 1</td>\n",
       "      <td>Writing you songs and singing them all like</td>\n",
       "      <td>FANDOM</td>\n",
       "    </tr>\n",
       "    <tr>\n",
       "      <th>2</th>\n",
       "      <td>Turbulent</td>\n",
       "      <td>Waterparks</td>\n",
       "      <td>Verse 1</td>\n",
       "      <td>Every single day</td>\n",
       "      <td>FANDOM</td>\n",
       "    </tr>\n",
       "    <tr>\n",
       "      <th>3</th>\n",
       "      <td>Turbulent</td>\n",
       "      <td>Waterparks</td>\n",
       "      <td>Verse 1</td>\n",
       "      <td>Tour brings that special pain</td>\n",
       "      <td>FANDOM</td>\n",
       "    </tr>\n",
       "    <tr>\n",
       "      <th>4</th>\n",
       "      <td>Turbulent</td>\n",
       "      <td>Waterparks</td>\n",
       "      <td>Pre-Chorus</td>\n",
       "      <td>So fuck yourself and fuck your feelings</td>\n",
       "      <td>FANDOM</td>\n",
       "    </tr>\n",
       "    <tr>\n",
       "      <th>...</th>\n",
       "      <td>...</td>\n",
       "      <td>...</td>\n",
       "      <td>...</td>\n",
       "      <td>...</td>\n",
       "      <td>...</td>\n",
       "    </tr>\n",
       "    <tr>\n",
       "      <th>5156</th>\n",
       "      <td>Beating Heart Baby</td>\n",
       "      <td>Waterparks</td>\n",
       "      <td>Chorus</td>\n",
       "      <td>Your beating heart, baby, baby</td>\n",
       "      <td>Beating Heart Baby</td>\n",
       "    </tr>\n",
       "    <tr>\n",
       "      <th>5157</th>\n",
       "      <td>Beating Heart Baby</td>\n",
       "      <td>Waterparks</td>\n",
       "      <td>Chorus</td>\n",
       "      <td>So baby is this love for real?</td>\n",
       "      <td>Beating Heart Baby</td>\n",
       "    </tr>\n",
       "    <tr>\n",
       "      <th>5158</th>\n",
       "      <td>Beating Heart Baby</td>\n",
       "      <td>Waterparks</td>\n",
       "      <td>Chorus</td>\n",
       "      <td>Let me in your arms to feel, woah</td>\n",
       "      <td>Beating Heart Baby</td>\n",
       "    </tr>\n",
       "    <tr>\n",
       "      <th>5159</th>\n",
       "      <td>Beating Heart Baby</td>\n",
       "      <td>Waterparks</td>\n",
       "      <td>Chorus</td>\n",
       "      <td>Your beating heart, baby</td>\n",
       "      <td>Beating Heart Baby</td>\n",
       "    </tr>\n",
       "    <tr>\n",
       "      <th>5160</th>\n",
       "      <td>Beating Heart Baby</td>\n",
       "      <td>Waterparks</td>\n",
       "      <td>Chorus</td>\n",
       "      <td>Your beating heart, baby, no</td>\n",
       "      <td>Beating Heart Baby</td>\n",
       "    </tr>\n",
       "  </tbody>\n",
       "</table>\n",
       "<p>5161 rows × 5 columns</p>\n",
       "</div>"
      ],
      "text/plain": [
       "              song_title      artist     section  \\\n",
       "0              Turbulent  Waterparks     Verse 1   \n",
       "1              Turbulent  Waterparks     Verse 1   \n",
       "2              Turbulent  Waterparks     Verse 1   \n",
       "3              Turbulent  Waterparks     Verse 1   \n",
       "4              Turbulent  Waterparks  Pre-Chorus   \n",
       "...                  ...         ...         ...   \n",
       "5156  Beating Heart Baby  Waterparks      Chorus   \n",
       "5157  Beating Heart Baby  Waterparks      Chorus   \n",
       "5158  Beating Heart Baby  Waterparks      Chorus   \n",
       "5159  Beating Heart Baby  Waterparks      Chorus   \n",
       "5160  Beating Heart Baby  Waterparks      Chorus   \n",
       "\n",
       "                                                lyrics               album  \n",
       "0     You had your own Pete Wentz and Patrick combined              FANDOM  \n",
       "1          Writing you songs and singing them all like              FANDOM  \n",
       "2                                     Every single day              FANDOM  \n",
       "3                        Tour brings that special pain              FANDOM  \n",
       "4              So fuck yourself and fuck your feelings              FANDOM  \n",
       "...                                                ...                 ...  \n",
       "5156                    Your beating heart, baby, baby  Beating Heart Baby  \n",
       "5157                    So baby is this love for real?  Beating Heart Baby  \n",
       "5158                 Let me in your arms to feel, woah  Beating Heart Baby  \n",
       "5159                          Your beating heart, baby  Beating Heart Baby  \n",
       "5160                      Your beating heart, baby, no  Beating Heart Baby  \n",
       "\n",
       "[5161 rows x 5 columns]"
      ]
     },
     "execution_count": 268,
     "metadata": {},
     "output_type": "execute_result"
    }
   ],
   "source": [
    "all_lyrics = pd.read_csv(\"full_lyrics_with_albums.csv\")\n",
    "all_lyrics"
   ]
  },
  {
   "cell_type": "code",
   "execution_count": 269,
   "id": "786d4f6d-8a07-4285-9e40-0290bd702b35",
   "metadata": {},
   "outputs": [
    {
     "data": {
      "text/plain": [
       "array(['1 (A COLLECTION OF UNRELEASED HOME DEMOS, THIS IS NOT G, OR EVEN AN ALBUM, SHUT UP ENJOY)',\n",
       "       'Airplane Conversations', 'Beating Heart Baby', 'Black Light',\n",
       "       'Cluster', 'Double Dare', 'Double Dare (Bonus Tracks)',\n",
       "       'Entertainment', 'FANDOM', 'Greatest Hits',\n",
       "       'INTELLECTUAL PROPERTY',\n",
       "       'INTELLECTUAL PROPERTY (Target Exclusive)'], dtype=object)"
      ]
     },
     "execution_count": 269,
     "metadata": {},
     "output_type": "execute_result"
    }
   ],
   "source": [
    "# checking that there are no typos\n",
    "np.unique(all_lyrics['album'])"
   ]
  },
  {
   "cell_type": "markdown",
   "id": "ee79c661-ffae-4a4c-97e7-7d430f8c95c4",
   "metadata": {},
   "source": [
    "Scraping from Genius resulted in this issue where it'd use \"You might also like\" as a lyric. I'm going to go ahead and remove those. "
   ]
  },
  {
   "cell_type": "code",
   "execution_count": 270,
   "id": "1cd60b3c-4733-46d6-bef6-7cfef78e241e",
   "metadata": {},
   "outputs": [
    {
     "data": {
      "text/html": [
       "<div>\n",
       "<style scoped>\n",
       "    .dataframe tbody tr th:only-of-type {\n",
       "        vertical-align: middle;\n",
       "    }\n",
       "\n",
       "    .dataframe tbody tr th {\n",
       "        vertical-align: top;\n",
       "    }\n",
       "\n",
       "    .dataframe thead th {\n",
       "        text-align: right;\n",
       "    }\n",
       "</style>\n",
       "<table border=\"1\" class=\"dataframe\">\n",
       "  <thead>\n",
       "    <tr style=\"text-align: right;\">\n",
       "      <th></th>\n",
       "      <th>song_title</th>\n",
       "      <th>artist</th>\n",
       "      <th>section</th>\n",
       "      <th>lyrics</th>\n",
       "      <th>album</th>\n",
       "    </tr>\n",
       "  </thead>\n",
       "  <tbody>\n",
       "    <tr>\n",
       "      <th>0</th>\n",
       "      <td>Turbulent</td>\n",
       "      <td>Waterparks</td>\n",
       "      <td>Verse 1</td>\n",
       "      <td>You had your own Pete Wentz and Patrick combined</td>\n",
       "      <td>FANDOM</td>\n",
       "    </tr>\n",
       "    <tr>\n",
       "      <th>1</th>\n",
       "      <td>Turbulent</td>\n",
       "      <td>Waterparks</td>\n",
       "      <td>Verse 1</td>\n",
       "      <td>Writing you songs and singing them all like</td>\n",
       "      <td>FANDOM</td>\n",
       "    </tr>\n",
       "    <tr>\n",
       "      <th>2</th>\n",
       "      <td>Turbulent</td>\n",
       "      <td>Waterparks</td>\n",
       "      <td>Verse 1</td>\n",
       "      <td>Every single day</td>\n",
       "      <td>FANDOM</td>\n",
       "    </tr>\n",
       "    <tr>\n",
       "      <th>3</th>\n",
       "      <td>Turbulent</td>\n",
       "      <td>Waterparks</td>\n",
       "      <td>Verse 1</td>\n",
       "      <td>Tour brings that special pain</td>\n",
       "      <td>FANDOM</td>\n",
       "    </tr>\n",
       "    <tr>\n",
       "      <th>4</th>\n",
       "      <td>Turbulent</td>\n",
       "      <td>Waterparks</td>\n",
       "      <td>Pre-Chorus</td>\n",
       "      <td>So fuck yourself and fuck your feelings</td>\n",
       "      <td>FANDOM</td>\n",
       "    </tr>\n",
       "    <tr>\n",
       "      <th>...</th>\n",
       "      <td>...</td>\n",
       "      <td>...</td>\n",
       "      <td>...</td>\n",
       "      <td>...</td>\n",
       "      <td>...</td>\n",
       "    </tr>\n",
       "    <tr>\n",
       "      <th>5156</th>\n",
       "      <td>Beating Heart Baby</td>\n",
       "      <td>Waterparks</td>\n",
       "      <td>Chorus</td>\n",
       "      <td>Your beating heart, baby, baby</td>\n",
       "      <td>Beating Heart Baby</td>\n",
       "    </tr>\n",
       "    <tr>\n",
       "      <th>5157</th>\n",
       "      <td>Beating Heart Baby</td>\n",
       "      <td>Waterparks</td>\n",
       "      <td>Chorus</td>\n",
       "      <td>So baby is this love for real?</td>\n",
       "      <td>Beating Heart Baby</td>\n",
       "    </tr>\n",
       "    <tr>\n",
       "      <th>5158</th>\n",
       "      <td>Beating Heart Baby</td>\n",
       "      <td>Waterparks</td>\n",
       "      <td>Chorus</td>\n",
       "      <td>Let me in your arms to feel, woah</td>\n",
       "      <td>Beating Heart Baby</td>\n",
       "    </tr>\n",
       "    <tr>\n",
       "      <th>5159</th>\n",
       "      <td>Beating Heart Baby</td>\n",
       "      <td>Waterparks</td>\n",
       "      <td>Chorus</td>\n",
       "      <td>Your beating heart, baby</td>\n",
       "      <td>Beating Heart Baby</td>\n",
       "    </tr>\n",
       "    <tr>\n",
       "      <th>5160</th>\n",
       "      <td>Beating Heart Baby</td>\n",
       "      <td>Waterparks</td>\n",
       "      <td>Chorus</td>\n",
       "      <td>Your beating heart, baby, no</td>\n",
       "      <td>Beating Heart Baby</td>\n",
       "    </tr>\n",
       "  </tbody>\n",
       "</table>\n",
       "<p>5074 rows × 5 columns</p>\n",
       "</div>"
      ],
      "text/plain": [
       "              song_title      artist     section  \\\n",
       "0              Turbulent  Waterparks     Verse 1   \n",
       "1              Turbulent  Waterparks     Verse 1   \n",
       "2              Turbulent  Waterparks     Verse 1   \n",
       "3              Turbulent  Waterparks     Verse 1   \n",
       "4              Turbulent  Waterparks  Pre-Chorus   \n",
       "...                  ...         ...         ...   \n",
       "5156  Beating Heart Baby  Waterparks      Chorus   \n",
       "5157  Beating Heart Baby  Waterparks      Chorus   \n",
       "5158  Beating Heart Baby  Waterparks      Chorus   \n",
       "5159  Beating Heart Baby  Waterparks      Chorus   \n",
       "5160  Beating Heart Baby  Waterparks      Chorus   \n",
       "\n",
       "                                                lyrics               album  \n",
       "0     You had your own Pete Wentz and Patrick combined              FANDOM  \n",
       "1          Writing you songs and singing them all like              FANDOM  \n",
       "2                                     Every single day              FANDOM  \n",
       "3                        Tour brings that special pain              FANDOM  \n",
       "4              So fuck yourself and fuck your feelings              FANDOM  \n",
       "...                                                ...                 ...  \n",
       "5156                    Your beating heart, baby, baby  Beating Heart Baby  \n",
       "5157                    So baby is this love for real?  Beating Heart Baby  \n",
       "5158                 Let me in your arms to feel, woah  Beating Heart Baby  \n",
       "5159                          Your beating heart, baby  Beating Heart Baby  \n",
       "5160                      Your beating heart, baby, no  Beating Heart Baby  \n",
       "\n",
       "[5074 rows x 5 columns]"
      ]
     },
     "execution_count": 270,
     "metadata": {},
     "output_type": "execute_result"
    }
   ],
   "source": [
    "all_lyrics = all_lyrics[all_lyrics['lyrics'] != \"You might also like\"]\n",
    "all_lyrics"
   ]
  },
  {
   "cell_type": "code",
   "execution_count": 271,
   "id": "7f514229-afb2-43af-8690-64c3367f0c89",
   "metadata": {},
   "outputs": [],
   "source": [
    "full_lyrics.to_csv(\"WATERPARKS_LYRICS_FULL.csv\", index=False)"
   ]
  }
 ],
 "metadata": {
  "kernelspec": {
   "display_name": "Python 3 (ipykernel)",
   "language": "python",
   "name": "python3"
  },
  "language_info": {
   "codemirror_mode": {
    "name": "ipython",
    "version": 3
   },
   "file_extension": ".py",
   "mimetype": "text/x-python",
   "name": "python",
   "nbconvert_exporter": "python",
   "pygments_lexer": "ipython3",
   "version": "3.11.5"
  }
 },
 "nbformat": 4,
 "nbformat_minor": 5
}
